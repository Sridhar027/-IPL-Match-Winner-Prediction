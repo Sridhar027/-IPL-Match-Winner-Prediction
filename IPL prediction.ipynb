{
 "cells": [
  {
   "cell_type": "code",
   "execution_count": 1,
   "id": "26c0db68",
   "metadata": {},
   "outputs": [],
   "source": [
    "import pandas as pd\n",
    "import numpy as np\n",
    "import warnings"
   ]
  },
  {
   "cell_type": "code",
   "execution_count": 3,
   "id": "ff9e9c1e-a7ad-4f2c-85b2-d70fdbeec326",
   "metadata": {},
   "outputs": [],
   "source": [
    "warnings.filterwarnings('ignore')"
   ]
  },
  {
   "cell_type": "code",
   "execution_count": 5,
   "id": "1834be11",
   "metadata": {},
   "outputs": [],
   "source": [
    "df=pd.read_csv(\"ipl_matches.csv\")"
   ]
  },
  {
   "cell_type": "code",
   "execution_count": 6,
   "id": "45249da7",
   "metadata": {},
   "outputs": [
    {
     "data": {
      "text/html": [
       "<div>\n",
       "<style scoped>\n",
       "    .dataframe tbody tr th:only-of-type {\n",
       "        vertical-align: middle;\n",
       "    }\n",
       "\n",
       "    .dataframe tbody tr th {\n",
       "        vertical-align: top;\n",
       "    }\n",
       "\n",
       "    .dataframe thead th {\n",
       "        text-align: right;\n",
       "    }\n",
       "</style>\n",
       "<table border=\"1\" class=\"dataframe\">\n",
       "  <thead>\n",
       "    <tr style=\"text-align: right;\">\n",
       "      <th></th>\n",
       "      <th>id</th>\n",
       "      <th>Season</th>\n",
       "      <th>city</th>\n",
       "      <th>date</th>\n",
       "      <th>team1</th>\n",
       "      <th>team2</th>\n",
       "      <th>toss_winner</th>\n",
       "      <th>toss_decision</th>\n",
       "      <th>result</th>\n",
       "      <th>dl_applied</th>\n",
       "      <th>winner</th>\n",
       "      <th>win_by_runs</th>\n",
       "      <th>win_by_wickets</th>\n",
       "      <th>player_of_match</th>\n",
       "      <th>venue</th>\n",
       "      <th>umpire1</th>\n",
       "      <th>umpire2</th>\n",
       "      <th>umpire3</th>\n",
       "    </tr>\n",
       "  </thead>\n",
       "  <tbody>\n",
       "    <tr>\n",
       "      <th>0</th>\n",
       "      <td>1</td>\n",
       "      <td>IPL-2017</td>\n",
       "      <td>Hyderabad</td>\n",
       "      <td>05-04-2017</td>\n",
       "      <td>Sunrisers Hyderabad</td>\n",
       "      <td>Royal Challengers Bangalore</td>\n",
       "      <td>Royal Challengers Bangalore</td>\n",
       "      <td>field</td>\n",
       "      <td>normal</td>\n",
       "      <td>0</td>\n",
       "      <td>Sunrisers Hyderabad</td>\n",
       "      <td>35</td>\n",
       "      <td>0</td>\n",
       "      <td>Yuvraj Singh</td>\n",
       "      <td>Rajiv Gandhi International Stadium, Uppal</td>\n",
       "      <td>AY Dandekar</td>\n",
       "      <td>NJ Llong</td>\n",
       "      <td>NaN</td>\n",
       "    </tr>\n",
       "    <tr>\n",
       "      <th>1</th>\n",
       "      <td>2</td>\n",
       "      <td>IPL-2017</td>\n",
       "      <td>Pune</td>\n",
       "      <td>06-04-2017</td>\n",
       "      <td>Mumbai Indians</td>\n",
       "      <td>Rising Pune Supergiant</td>\n",
       "      <td>Rising Pune Supergiant</td>\n",
       "      <td>field</td>\n",
       "      <td>normal</td>\n",
       "      <td>0</td>\n",
       "      <td>Rising Pune Supergiant</td>\n",
       "      <td>0</td>\n",
       "      <td>7</td>\n",
       "      <td>SPD Smith</td>\n",
       "      <td>Maharashtra Cricket Association Stadium</td>\n",
       "      <td>A Nand Kishore</td>\n",
       "      <td>S Ravi</td>\n",
       "      <td>NaN</td>\n",
       "    </tr>\n",
       "    <tr>\n",
       "      <th>2</th>\n",
       "      <td>3</td>\n",
       "      <td>IPL-2017</td>\n",
       "      <td>Rajkot</td>\n",
       "      <td>07-04-2017</td>\n",
       "      <td>Gujarat Lions</td>\n",
       "      <td>Kolkata Knight Riders</td>\n",
       "      <td>Kolkata Knight Riders</td>\n",
       "      <td>field</td>\n",
       "      <td>normal</td>\n",
       "      <td>0</td>\n",
       "      <td>Kolkata Knight Riders</td>\n",
       "      <td>0</td>\n",
       "      <td>10</td>\n",
       "      <td>CA Lynn</td>\n",
       "      <td>Saurashtra Cricket Association Stadium</td>\n",
       "      <td>Nitin Menon</td>\n",
       "      <td>CK Nandan</td>\n",
       "      <td>NaN</td>\n",
       "    </tr>\n",
       "    <tr>\n",
       "      <th>3</th>\n",
       "      <td>4</td>\n",
       "      <td>IPL-2017</td>\n",
       "      <td>Indore</td>\n",
       "      <td>08-04-2017</td>\n",
       "      <td>Rising Pune Supergiant</td>\n",
       "      <td>Kings XI Punjab</td>\n",
       "      <td>Kings XI Punjab</td>\n",
       "      <td>field</td>\n",
       "      <td>normal</td>\n",
       "      <td>0</td>\n",
       "      <td>Kings XI Punjab</td>\n",
       "      <td>0</td>\n",
       "      <td>6</td>\n",
       "      <td>GJ Maxwell</td>\n",
       "      <td>Holkar Cricket Stadium</td>\n",
       "      <td>AK Chaudhary</td>\n",
       "      <td>C Shamshuddin</td>\n",
       "      <td>NaN</td>\n",
       "    </tr>\n",
       "    <tr>\n",
       "      <th>4</th>\n",
       "      <td>5</td>\n",
       "      <td>IPL-2017</td>\n",
       "      <td>Bangalore</td>\n",
       "      <td>08-04-2017</td>\n",
       "      <td>Royal Challengers Bangalore</td>\n",
       "      <td>Delhi Daredevils</td>\n",
       "      <td>Royal Challengers Bangalore</td>\n",
       "      <td>bat</td>\n",
       "      <td>normal</td>\n",
       "      <td>0</td>\n",
       "      <td>Royal Challengers Bangalore</td>\n",
       "      <td>15</td>\n",
       "      <td>0</td>\n",
       "      <td>KM Jadhav</td>\n",
       "      <td>M Chinnaswamy Stadium</td>\n",
       "      <td>NaN</td>\n",
       "      <td>NaN</td>\n",
       "      <td>NaN</td>\n",
       "    </tr>\n",
       "  </tbody>\n",
       "</table>\n",
       "</div>"
      ],
      "text/plain": [
       "   id    Season       city        date                        team1  \\\n",
       "0   1  IPL-2017  Hyderabad  05-04-2017          Sunrisers Hyderabad   \n",
       "1   2  IPL-2017       Pune  06-04-2017               Mumbai Indians   \n",
       "2   3  IPL-2017     Rajkot  07-04-2017                Gujarat Lions   \n",
       "3   4  IPL-2017     Indore  08-04-2017       Rising Pune Supergiant   \n",
       "4   5  IPL-2017  Bangalore  08-04-2017  Royal Challengers Bangalore   \n",
       "\n",
       "                         team2                  toss_winner toss_decision  \\\n",
       "0  Royal Challengers Bangalore  Royal Challengers Bangalore         field   \n",
       "1       Rising Pune Supergiant       Rising Pune Supergiant         field   \n",
       "2        Kolkata Knight Riders        Kolkata Knight Riders         field   \n",
       "3              Kings XI Punjab              Kings XI Punjab         field   \n",
       "4             Delhi Daredevils  Royal Challengers Bangalore           bat   \n",
       "\n",
       "   result  dl_applied                       winner  win_by_runs  \\\n",
       "0  normal           0          Sunrisers Hyderabad           35   \n",
       "1  normal           0       Rising Pune Supergiant            0   \n",
       "2  normal           0        Kolkata Knight Riders            0   \n",
       "3  normal           0              Kings XI Punjab            0   \n",
       "4  normal           0  Royal Challengers Bangalore           15   \n",
       "\n",
       "   win_by_wickets player_of_match                                      venue  \\\n",
       "0               0    Yuvraj Singh  Rajiv Gandhi International Stadium, Uppal   \n",
       "1               7       SPD Smith    Maharashtra Cricket Association Stadium   \n",
       "2              10         CA Lynn     Saurashtra Cricket Association Stadium   \n",
       "3               6      GJ Maxwell                     Holkar Cricket Stadium   \n",
       "4               0       KM Jadhav                      M Chinnaswamy Stadium   \n",
       "\n",
       "          umpire1        umpire2 umpire3  \n",
       "0     AY Dandekar       NJ Llong     NaN  \n",
       "1  A Nand Kishore         S Ravi     NaN  \n",
       "2     Nitin Menon      CK Nandan     NaN  \n",
       "3    AK Chaudhary  C Shamshuddin     NaN  \n",
       "4             NaN            NaN     NaN  "
      ]
     },
     "execution_count": 6,
     "metadata": {},
     "output_type": "execute_result"
    }
   ],
   "source": [
    "df.head()"
   ]
  },
  {
   "cell_type": "markdown",
   "id": "e2bed9e0",
   "metadata": {},
   "source": [
    "- DATA UNDERSTANING"
   ]
  },
  {
   "cell_type": "code",
   "execution_count": 8,
   "id": "f4799f8f",
   "metadata": {},
   "outputs": [
    {
     "name": "stdout",
     "output_type": "stream",
     "text": [
      "<class 'pandas.core.frame.DataFrame'>\n",
      "RangeIndex: 756 entries, 0 to 755\n",
      "Data columns (total 18 columns):\n",
      " #   Column           Non-Null Count  Dtype \n",
      "---  ------           --------------  ----- \n",
      " 0   id               756 non-null    int64 \n",
      " 1   Season           756 non-null    object\n",
      " 2   city             749 non-null    object\n",
      " 3   date             756 non-null    object\n",
      " 4   team1            756 non-null    object\n",
      " 5   team2            756 non-null    object\n",
      " 6   toss_winner      756 non-null    object\n",
      " 7   toss_decision    756 non-null    object\n",
      " 8   result           756 non-null    object\n",
      " 9   dl_applied       756 non-null    int64 \n",
      " 10  winner           752 non-null    object\n",
      " 11  win_by_runs      756 non-null    int64 \n",
      " 12  win_by_wickets   756 non-null    int64 \n",
      " 13  player_of_match  752 non-null    object\n",
      " 14  venue            756 non-null    object\n",
      " 15  umpire1          754 non-null    object\n",
      " 16  umpire2          754 non-null    object\n",
      " 17  umpire3          119 non-null    object\n",
      "dtypes: int64(4), object(14)\n",
      "memory usage: 106.4+ KB\n"
     ]
    }
   ],
   "source": [
    "df.info()"
   ]
  },
  {
   "cell_type": "code",
   "execution_count": 9,
   "id": "7e9d352a",
   "metadata": {},
   "outputs": [
    {
     "data": {
      "text/plain": [
       "(756, 18)"
      ]
     },
     "execution_count": 9,
     "metadata": {},
     "output_type": "execute_result"
    }
   ],
   "source": [
    "df.shape"
   ]
  },
  {
   "cell_type": "markdown",
   "id": "037cde94",
   "metadata": {},
   "source": [
    "## DATA CLEANING"
   ]
  },
  {
   "cell_type": "code",
   "execution_count": 11,
   "id": "fa55aee9",
   "metadata": {},
   "outputs": [
    {
     "data": {
      "text/plain": [
       "id                   0\n",
       "Season               0\n",
       "city                 7\n",
       "date                 0\n",
       "team1                0\n",
       "team2                0\n",
       "toss_winner          0\n",
       "toss_decision        0\n",
       "result               0\n",
       "dl_applied           0\n",
       "winner               4\n",
       "win_by_runs          0\n",
       "win_by_wickets       0\n",
       "player_of_match      4\n",
       "venue                0\n",
       "umpire1              2\n",
       "umpire2              2\n",
       "umpire3            637\n",
       "dtype: int64"
      ]
     },
     "execution_count": 11,
     "metadata": {},
     "output_type": "execute_result"
    }
   ],
   "source": [
    "df.isnull().sum()"
   ]
  },
  {
   "cell_type": "markdown",
   "id": "751f3e0a",
   "metadata": {},
   "source": [
    "- CATEGORIES COLUMN'S MODE IS IDENTIFIED"
   ]
  },
  {
   "cell_type": "code",
   "execution_count": 13,
   "id": "d43f3fa7",
   "metadata": {},
   "outputs": [
    {
     "data": {
      "text/html": [
       "<div>\n",
       "<style scoped>\n",
       "    .dataframe tbody tr th:only-of-type {\n",
       "        vertical-align: middle;\n",
       "    }\n",
       "\n",
       "    .dataframe tbody tr th {\n",
       "        vertical-align: top;\n",
       "    }\n",
       "\n",
       "    .dataframe thead th {\n",
       "        text-align: right;\n",
       "    }\n",
       "</style>\n",
       "<table border=\"1\" class=\"dataframe\">\n",
       "  <thead>\n",
       "    <tr style=\"text-align: right;\">\n",
       "      <th></th>\n",
       "      <th>id</th>\n",
       "      <th>Season</th>\n",
       "      <th>city</th>\n",
       "      <th>date</th>\n",
       "      <th>team1</th>\n",
       "      <th>team2</th>\n",
       "      <th>toss_winner</th>\n",
       "      <th>toss_decision</th>\n",
       "      <th>result</th>\n",
       "      <th>dl_applied</th>\n",
       "      <th>winner</th>\n",
       "      <th>win_by_runs</th>\n",
       "      <th>win_by_wickets</th>\n",
       "      <th>player_of_match</th>\n",
       "      <th>venue</th>\n",
       "      <th>umpire1</th>\n",
       "      <th>umpire2</th>\n",
       "      <th>umpire3</th>\n",
       "    </tr>\n",
       "  </thead>\n",
       "  <tbody>\n",
       "    <tr>\n",
       "      <th>461</th>\n",
       "      <td>462</td>\n",
       "      <td>IPL-2014</td>\n",
       "      <td>NaN</td>\n",
       "      <td>19-04-2014</td>\n",
       "      <td>Mumbai Indians</td>\n",
       "      <td>Royal Challengers Bangalore</td>\n",
       "      <td>Royal Challengers Bangalore</td>\n",
       "      <td>field</td>\n",
       "      <td>normal</td>\n",
       "      <td>0</td>\n",
       "      <td>Royal Challengers Bangalore</td>\n",
       "      <td>0</td>\n",
       "      <td>7</td>\n",
       "      <td>PA Patel</td>\n",
       "      <td>Dubai International Cricket Stadium</td>\n",
       "      <td>Aleem Dar</td>\n",
       "      <td>AK Chaudhary</td>\n",
       "      <td>NaN</td>\n",
       "    </tr>\n",
       "    <tr>\n",
       "      <th>462</th>\n",
       "      <td>463</td>\n",
       "      <td>IPL-2014</td>\n",
       "      <td>NaN</td>\n",
       "      <td>19-04-2014</td>\n",
       "      <td>Kolkata Knight Riders</td>\n",
       "      <td>Delhi Daredevils</td>\n",
       "      <td>Kolkata Knight Riders</td>\n",
       "      <td>bat</td>\n",
       "      <td>normal</td>\n",
       "      <td>0</td>\n",
       "      <td>Delhi Daredevils</td>\n",
       "      <td>0</td>\n",
       "      <td>4</td>\n",
       "      <td>JP Duminy</td>\n",
       "      <td>Dubai International Cricket Stadium</td>\n",
       "      <td>Aleem Dar</td>\n",
       "      <td>VA Kulkarni</td>\n",
       "      <td>NaN</td>\n",
       "    </tr>\n",
       "    <tr>\n",
       "      <th>466</th>\n",
       "      <td>467</td>\n",
       "      <td>IPL-2014</td>\n",
       "      <td>NaN</td>\n",
       "      <td>23-04-2014</td>\n",
       "      <td>Chennai Super Kings</td>\n",
       "      <td>Rajasthan Royals</td>\n",
       "      <td>Rajasthan Royals</td>\n",
       "      <td>field</td>\n",
       "      <td>normal</td>\n",
       "      <td>0</td>\n",
       "      <td>Chennai Super Kings</td>\n",
       "      <td>7</td>\n",
       "      <td>0</td>\n",
       "      <td>RA Jadeja</td>\n",
       "      <td>Dubai International Cricket Stadium</td>\n",
       "      <td>HDPK Dharmasena</td>\n",
       "      <td>RK Illingworth</td>\n",
       "      <td>NaN</td>\n",
       "    </tr>\n",
       "    <tr>\n",
       "      <th>468</th>\n",
       "      <td>469</td>\n",
       "      <td>IPL-2014</td>\n",
       "      <td>NaN</td>\n",
       "      <td>25-04-2014</td>\n",
       "      <td>Sunrisers Hyderabad</td>\n",
       "      <td>Delhi Daredevils</td>\n",
       "      <td>Sunrisers Hyderabad</td>\n",
       "      <td>bat</td>\n",
       "      <td>normal</td>\n",
       "      <td>0</td>\n",
       "      <td>Sunrisers Hyderabad</td>\n",
       "      <td>4</td>\n",
       "      <td>0</td>\n",
       "      <td>AJ Finch</td>\n",
       "      <td>Dubai International Cricket Stadium</td>\n",
       "      <td>M Erasmus</td>\n",
       "      <td>S Ravi</td>\n",
       "      <td>NaN</td>\n",
       "    </tr>\n",
       "    <tr>\n",
       "      <th>469</th>\n",
       "      <td>470</td>\n",
       "      <td>IPL-2014</td>\n",
       "      <td>NaN</td>\n",
       "      <td>25-04-2014</td>\n",
       "      <td>Mumbai Indians</td>\n",
       "      <td>Chennai Super Kings</td>\n",
       "      <td>Mumbai Indians</td>\n",
       "      <td>bat</td>\n",
       "      <td>normal</td>\n",
       "      <td>0</td>\n",
       "      <td>Chennai Super Kings</td>\n",
       "      <td>0</td>\n",
       "      <td>7</td>\n",
       "      <td>MM Sharma</td>\n",
       "      <td>Dubai International Cricket Stadium</td>\n",
       "      <td>BF Bowden</td>\n",
       "      <td>M Erasmus</td>\n",
       "      <td>NaN</td>\n",
       "    </tr>\n",
       "    <tr>\n",
       "      <th>474</th>\n",
       "      <td>475</td>\n",
       "      <td>IPL-2014</td>\n",
       "      <td>NaN</td>\n",
       "      <td>28-04-2014</td>\n",
       "      <td>Royal Challengers Bangalore</td>\n",
       "      <td>Kings XI Punjab</td>\n",
       "      <td>Kings XI Punjab</td>\n",
       "      <td>field</td>\n",
       "      <td>normal</td>\n",
       "      <td>0</td>\n",
       "      <td>Kings XI Punjab</td>\n",
       "      <td>0</td>\n",
       "      <td>5</td>\n",
       "      <td>Sandeep Sharma</td>\n",
       "      <td>Dubai International Cricket Stadium</td>\n",
       "      <td>BF Bowden</td>\n",
       "      <td>S Ravi</td>\n",
       "      <td>NaN</td>\n",
       "    </tr>\n",
       "    <tr>\n",
       "      <th>476</th>\n",
       "      <td>477</td>\n",
       "      <td>IPL-2014</td>\n",
       "      <td>NaN</td>\n",
       "      <td>30-04-2014</td>\n",
       "      <td>Sunrisers Hyderabad</td>\n",
       "      <td>Mumbai Indians</td>\n",
       "      <td>Mumbai Indians</td>\n",
       "      <td>field</td>\n",
       "      <td>normal</td>\n",
       "      <td>0</td>\n",
       "      <td>Sunrisers Hyderabad</td>\n",
       "      <td>15</td>\n",
       "      <td>0</td>\n",
       "      <td>B Kumar</td>\n",
       "      <td>Dubai International Cricket Stadium</td>\n",
       "      <td>HDPK Dharmasena</td>\n",
       "      <td>M Erasmus</td>\n",
       "      <td>NaN</td>\n",
       "    </tr>\n",
       "  </tbody>\n",
       "</table>\n",
       "</div>"
      ],
      "text/plain": [
       "      id    Season city        date                        team1  \\\n",
       "461  462  IPL-2014  NaN  19-04-2014               Mumbai Indians   \n",
       "462  463  IPL-2014  NaN  19-04-2014        Kolkata Knight Riders   \n",
       "466  467  IPL-2014  NaN  23-04-2014          Chennai Super Kings   \n",
       "468  469  IPL-2014  NaN  25-04-2014          Sunrisers Hyderabad   \n",
       "469  470  IPL-2014  NaN  25-04-2014               Mumbai Indians   \n",
       "474  475  IPL-2014  NaN  28-04-2014  Royal Challengers Bangalore   \n",
       "476  477  IPL-2014  NaN  30-04-2014          Sunrisers Hyderabad   \n",
       "\n",
       "                           team2                  toss_winner toss_decision  \\\n",
       "461  Royal Challengers Bangalore  Royal Challengers Bangalore         field   \n",
       "462             Delhi Daredevils        Kolkata Knight Riders           bat   \n",
       "466             Rajasthan Royals             Rajasthan Royals         field   \n",
       "468             Delhi Daredevils          Sunrisers Hyderabad           bat   \n",
       "469          Chennai Super Kings               Mumbai Indians           bat   \n",
       "474              Kings XI Punjab              Kings XI Punjab         field   \n",
       "476               Mumbai Indians               Mumbai Indians         field   \n",
       "\n",
       "     result  dl_applied                       winner  win_by_runs  \\\n",
       "461  normal           0  Royal Challengers Bangalore            0   \n",
       "462  normal           0             Delhi Daredevils            0   \n",
       "466  normal           0          Chennai Super Kings            7   \n",
       "468  normal           0          Sunrisers Hyderabad            4   \n",
       "469  normal           0          Chennai Super Kings            0   \n",
       "474  normal           0              Kings XI Punjab            0   \n",
       "476  normal           0          Sunrisers Hyderabad           15   \n",
       "\n",
       "     win_by_wickets player_of_match                                venue  \\\n",
       "461               7        PA Patel  Dubai International Cricket Stadium   \n",
       "462               4       JP Duminy  Dubai International Cricket Stadium   \n",
       "466               0       RA Jadeja  Dubai International Cricket Stadium   \n",
       "468               0        AJ Finch  Dubai International Cricket Stadium   \n",
       "469               7       MM Sharma  Dubai International Cricket Stadium   \n",
       "474               5  Sandeep Sharma  Dubai International Cricket Stadium   \n",
       "476               0         B Kumar  Dubai International Cricket Stadium   \n",
       "\n",
       "             umpire1         umpire2 umpire3  \n",
       "461        Aleem Dar    AK Chaudhary     NaN  \n",
       "462        Aleem Dar     VA Kulkarni     NaN  \n",
       "466  HDPK Dharmasena  RK Illingworth     NaN  \n",
       "468        M Erasmus          S Ravi     NaN  \n",
       "469        BF Bowden       M Erasmus     NaN  \n",
       "474        BF Bowden          S Ravi     NaN  \n",
       "476  HDPK Dharmasena       M Erasmus     NaN  "
      ]
     },
     "execution_count": 13,
     "metadata": {},
     "output_type": "execute_result"
    }
   ],
   "source": [
    "df[df[\"city\"].isna()]"
   ]
  },
  {
   "cell_type": "code",
   "execution_count": 14,
   "id": "6329dd0e",
   "metadata": {},
   "outputs": [
    {
     "data": {
      "text/plain": [
       "array(['Hyderabad', 'Pune', 'Rajkot', 'Indore', 'Bangalore', 'Mumbai',\n",
       "       'Kolkata', 'Delhi', 'Chandigarh', 'Kanpur', 'Jaipur', 'Chennai',\n",
       "       'Cape Town', 'Port Elizabeth', 'Durban', 'Centurion',\n",
       "       'East London', 'Johannesburg', 'Kimberley', 'Bloemfontein',\n",
       "       'Ahmedabad', 'Cuttack', 'Nagpur', 'Dharamsala', 'Kochi',\n",
       "       'Visakhapatnam', 'Raipur', 'Ranchi', 'Abu Dhabi', 'Sharjah', nan,\n",
       "       'Mohali', 'Bengaluru'], dtype=object)"
      ]
     },
     "execution_count": 14,
     "metadata": {},
     "output_type": "execute_result"
    }
   ],
   "source": [
    "df[\"city\"].unique()"
   ]
  },
  {
   "cell_type": "code",
   "execution_count": 15,
   "id": "eebf2127",
   "metadata": {},
   "outputs": [],
   "source": [
    "df[\"city\"]=df[\"city\"].replace(\"Bangalore\",\"Bengaluru\")"
   ]
  },
  {
   "cell_type": "markdown",
   "id": "be3b53a0",
   "metadata": {},
   "source": [
    "## city null values replaced with \"venue\""
   ]
  },
  {
   "cell_type": "code",
   "execution_count": 17,
   "id": "89a4ecc8",
   "metadata": {},
   "outputs": [],
   "source": [
    "df['city'] = df['city'].fillna('Sharjah')"
   ]
  },
  {
   "cell_type": "markdown",
   "id": "417ae7a1",
   "metadata": {},
   "source": [
    "- team"
   ]
  },
  {
   "cell_type": "code",
   "execution_count": 19,
   "id": "5a167cec",
   "metadata": {},
   "outputs": [
    {
     "data": {
      "text/plain": [
       "team1\n",
       "Mumbai Indians                 101\n",
       "Kings XI Punjab                 91\n",
       "Chennai Super Kings             89\n",
       "Royal Challengers Bangalore     85\n",
       "Kolkata Knight Riders           83\n",
       "Delhi Daredevils                72\n",
       "Rajasthan Royals                67\n",
       "Sunrisers Hyderabad             63\n",
       "Deccan Chargers                 43\n",
       "Pune Warriors                   20\n",
       "Gujarat Lions                   14\n",
       "Rising Pune Supergiant           8\n",
       "Kochi Tuskers Kerala             7\n",
       "Rising Pune Supergiants          7\n",
       "Delhi Capitals                   6\n",
       "Name: count, dtype: int64"
      ]
     },
     "execution_count": 19,
     "metadata": {},
     "output_type": "execute_result"
    }
   ],
   "source": [
    "df[\"team1\"].value_counts()"
   ]
  },
  {
   "cell_type": "code",
   "execution_count": 20,
   "id": "b19dc753",
   "metadata": {},
   "outputs": [],
   "source": [
    "df[\"team1\"]=df[\"team1\"].replace(\"Rising Pune Supergiant\",\"Rising Pune Supergiants\")"
   ]
  },
  {
   "cell_type": "code",
   "execution_count": 21,
   "id": "f9362ff1",
   "metadata": {},
   "outputs": [],
   "source": [
    "df=df.replace(\"Rising Pune Supergiant\",\"Rising Pune Supergiants\")"
   ]
  },
  {
   "cell_type": "code",
   "execution_count": 22,
   "id": "0f419878",
   "metadata": {},
   "outputs": [
    {
     "data": {
      "text/html": [
       "<div>\n",
       "<style scoped>\n",
       "    .dataframe tbody tr th:only-of-type {\n",
       "        vertical-align: middle;\n",
       "    }\n",
       "\n",
       "    .dataframe tbody tr th {\n",
       "        vertical-align: top;\n",
       "    }\n",
       "\n",
       "    .dataframe thead th {\n",
       "        text-align: right;\n",
       "    }\n",
       "</style>\n",
       "<table border=\"1\" class=\"dataframe\">\n",
       "  <thead>\n",
       "    <tr style=\"text-align: right;\">\n",
       "      <th></th>\n",
       "      <th>id</th>\n",
       "      <th>Season</th>\n",
       "      <th>city</th>\n",
       "      <th>date</th>\n",
       "      <th>team1</th>\n",
       "      <th>team2</th>\n",
       "      <th>toss_winner</th>\n",
       "      <th>toss_decision</th>\n",
       "      <th>result</th>\n",
       "      <th>dl_applied</th>\n",
       "      <th>winner</th>\n",
       "      <th>win_by_runs</th>\n",
       "      <th>win_by_wickets</th>\n",
       "      <th>player_of_match</th>\n",
       "      <th>venue</th>\n",
       "      <th>umpire1</th>\n",
       "      <th>umpire2</th>\n",
       "      <th>umpire3</th>\n",
       "    </tr>\n",
       "  </thead>\n",
       "  <tbody>\n",
       "    <tr>\n",
       "      <th>300</th>\n",
       "      <td>301</td>\n",
       "      <td>IPL-2011</td>\n",
       "      <td>Delhi</td>\n",
       "      <td>21-05-2011</td>\n",
       "      <td>Delhi Daredevils</td>\n",
       "      <td>Pune Warriors</td>\n",
       "      <td>Delhi Daredevils</td>\n",
       "      <td>bat</td>\n",
       "      <td>no result</td>\n",
       "      <td>0</td>\n",
       "      <td>NaN</td>\n",
       "      <td>0</td>\n",
       "      <td>0</td>\n",
       "      <td>NaN</td>\n",
       "      <td>Feroz Shah Kotla</td>\n",
       "      <td>SS Hazare</td>\n",
       "      <td>RJ Tucker</td>\n",
       "      <td>NaN</td>\n",
       "    </tr>\n",
       "    <tr>\n",
       "      <th>545</th>\n",
       "      <td>546</td>\n",
       "      <td>IPL-2015</td>\n",
       "      <td>Bengaluru</td>\n",
       "      <td>29-04-2015</td>\n",
       "      <td>Royal Challengers Bangalore</td>\n",
       "      <td>Rajasthan Royals</td>\n",
       "      <td>Rajasthan Royals</td>\n",
       "      <td>field</td>\n",
       "      <td>no result</td>\n",
       "      <td>0</td>\n",
       "      <td>NaN</td>\n",
       "      <td>0</td>\n",
       "      <td>0</td>\n",
       "      <td>NaN</td>\n",
       "      <td>M Chinnaswamy Stadium</td>\n",
       "      <td>JD Cloete</td>\n",
       "      <td>PG Pathak</td>\n",
       "      <td>NaN</td>\n",
       "    </tr>\n",
       "    <tr>\n",
       "      <th>570</th>\n",
       "      <td>571</td>\n",
       "      <td>IPL-2015</td>\n",
       "      <td>Bengaluru</td>\n",
       "      <td>17-05-2015</td>\n",
       "      <td>Delhi Daredevils</td>\n",
       "      <td>Royal Challengers Bangalore</td>\n",
       "      <td>Royal Challengers Bangalore</td>\n",
       "      <td>field</td>\n",
       "      <td>no result</td>\n",
       "      <td>0</td>\n",
       "      <td>NaN</td>\n",
       "      <td>0</td>\n",
       "      <td>0</td>\n",
       "      <td>NaN</td>\n",
       "      <td>M Chinnaswamy Stadium</td>\n",
       "      <td>HDPK Dharmasena</td>\n",
       "      <td>K Srinivasan</td>\n",
       "      <td>NaN</td>\n",
       "    </tr>\n",
       "    <tr>\n",
       "      <th>744</th>\n",
       "      <td>11340</td>\n",
       "      <td>IPL-2019</td>\n",
       "      <td>Bengaluru</td>\n",
       "      <td>30-04-2019</td>\n",
       "      <td>Royal Challengers Bangalore</td>\n",
       "      <td>Rajasthan Royals</td>\n",
       "      <td>Rajasthan Royals</td>\n",
       "      <td>field</td>\n",
       "      <td>no result</td>\n",
       "      <td>0</td>\n",
       "      <td>NaN</td>\n",
       "      <td>0</td>\n",
       "      <td>0</td>\n",
       "      <td>NaN</td>\n",
       "      <td>M. Chinnaswamy Stadium</td>\n",
       "      <td>Nigel Llong</td>\n",
       "      <td>Ulhas Gandhe</td>\n",
       "      <td>Anil Chaudhary</td>\n",
       "    </tr>\n",
       "  </tbody>\n",
       "</table>\n",
       "</div>"
      ],
      "text/plain": [
       "        id    Season       city        date                        team1  \\\n",
       "300    301  IPL-2011      Delhi  21-05-2011             Delhi Daredevils   \n",
       "545    546  IPL-2015  Bengaluru  29-04-2015  Royal Challengers Bangalore   \n",
       "570    571  IPL-2015  Bengaluru  17-05-2015             Delhi Daredevils   \n",
       "744  11340  IPL-2019  Bengaluru  30-04-2019  Royal Challengers Bangalore   \n",
       "\n",
       "                           team2                  toss_winner toss_decision  \\\n",
       "300                Pune Warriors             Delhi Daredevils           bat   \n",
       "545             Rajasthan Royals             Rajasthan Royals         field   \n",
       "570  Royal Challengers Bangalore  Royal Challengers Bangalore         field   \n",
       "744             Rajasthan Royals             Rajasthan Royals         field   \n",
       "\n",
       "        result  dl_applied winner  win_by_runs  win_by_wickets  \\\n",
       "300  no result           0    NaN            0               0   \n",
       "545  no result           0    NaN            0               0   \n",
       "570  no result           0    NaN            0               0   \n",
       "744  no result           0    NaN            0               0   \n",
       "\n",
       "    player_of_match                   venue          umpire1       umpire2  \\\n",
       "300             NaN        Feroz Shah Kotla        SS Hazare     RJ Tucker   \n",
       "545             NaN   M Chinnaswamy Stadium        JD Cloete     PG Pathak   \n",
       "570             NaN   M Chinnaswamy Stadium  HDPK Dharmasena  K Srinivasan   \n",
       "744             NaN  M. Chinnaswamy Stadium      Nigel Llong  Ulhas Gandhe   \n",
       "\n",
       "            umpire3  \n",
       "300             NaN  \n",
       "545             NaN  \n",
       "570             NaN  \n",
       "744  Anil Chaudhary  "
      ]
     },
     "execution_count": 22,
     "metadata": {},
     "output_type": "execute_result"
    }
   ],
   "source": [
    "df[df[\"winner\"].isna()]"
   ]
  },
  {
   "cell_type": "code",
   "execution_count": 23,
   "id": "ebe49efa",
   "metadata": {},
   "outputs": [],
   "source": [
    "df[\"winner\"]=df[\"winner\"].fillna(\"no result\")"
   ]
  },
  {
   "cell_type": "code",
   "execution_count": 24,
   "id": "57e163a6",
   "metadata": {},
   "outputs": [
    {
     "data": {
      "text/html": [
       "<div>\n",
       "<style scoped>\n",
       "    .dataframe tbody tr th:only-of-type {\n",
       "        vertical-align: middle;\n",
       "    }\n",
       "\n",
       "    .dataframe tbody tr th {\n",
       "        vertical-align: top;\n",
       "    }\n",
       "\n",
       "    .dataframe thead th {\n",
       "        text-align: right;\n",
       "    }\n",
       "</style>\n",
       "<table border=\"1\" class=\"dataframe\">\n",
       "  <thead>\n",
       "    <tr style=\"text-align: right;\">\n",
       "      <th></th>\n",
       "      <th>id</th>\n",
       "      <th>Season</th>\n",
       "      <th>city</th>\n",
       "      <th>date</th>\n",
       "      <th>team1</th>\n",
       "      <th>team2</th>\n",
       "      <th>toss_winner</th>\n",
       "      <th>toss_decision</th>\n",
       "      <th>result</th>\n",
       "      <th>dl_applied</th>\n",
       "      <th>winner</th>\n",
       "      <th>win_by_runs</th>\n",
       "      <th>win_by_wickets</th>\n",
       "      <th>player_of_match</th>\n",
       "      <th>venue</th>\n",
       "      <th>umpire1</th>\n",
       "      <th>umpire2</th>\n",
       "      <th>umpire3</th>\n",
       "    </tr>\n",
       "  </thead>\n",
       "  <tbody>\n",
       "    <tr>\n",
       "      <th>300</th>\n",
       "      <td>301</td>\n",
       "      <td>IPL-2011</td>\n",
       "      <td>Delhi</td>\n",
       "      <td>21-05-2011</td>\n",
       "      <td>Delhi Daredevils</td>\n",
       "      <td>Pune Warriors</td>\n",
       "      <td>Delhi Daredevils</td>\n",
       "      <td>bat</td>\n",
       "      <td>no result</td>\n",
       "      <td>0</td>\n",
       "      <td>no result</td>\n",
       "      <td>0</td>\n",
       "      <td>0</td>\n",
       "      <td>NaN</td>\n",
       "      <td>Feroz Shah Kotla</td>\n",
       "      <td>SS Hazare</td>\n",
       "      <td>RJ Tucker</td>\n",
       "      <td>NaN</td>\n",
       "    </tr>\n",
       "    <tr>\n",
       "      <th>545</th>\n",
       "      <td>546</td>\n",
       "      <td>IPL-2015</td>\n",
       "      <td>Bengaluru</td>\n",
       "      <td>29-04-2015</td>\n",
       "      <td>Royal Challengers Bangalore</td>\n",
       "      <td>Rajasthan Royals</td>\n",
       "      <td>Rajasthan Royals</td>\n",
       "      <td>field</td>\n",
       "      <td>no result</td>\n",
       "      <td>0</td>\n",
       "      <td>no result</td>\n",
       "      <td>0</td>\n",
       "      <td>0</td>\n",
       "      <td>NaN</td>\n",
       "      <td>M Chinnaswamy Stadium</td>\n",
       "      <td>JD Cloete</td>\n",
       "      <td>PG Pathak</td>\n",
       "      <td>NaN</td>\n",
       "    </tr>\n",
       "    <tr>\n",
       "      <th>570</th>\n",
       "      <td>571</td>\n",
       "      <td>IPL-2015</td>\n",
       "      <td>Bengaluru</td>\n",
       "      <td>17-05-2015</td>\n",
       "      <td>Delhi Daredevils</td>\n",
       "      <td>Royal Challengers Bangalore</td>\n",
       "      <td>Royal Challengers Bangalore</td>\n",
       "      <td>field</td>\n",
       "      <td>no result</td>\n",
       "      <td>0</td>\n",
       "      <td>no result</td>\n",
       "      <td>0</td>\n",
       "      <td>0</td>\n",
       "      <td>NaN</td>\n",
       "      <td>M Chinnaswamy Stadium</td>\n",
       "      <td>HDPK Dharmasena</td>\n",
       "      <td>K Srinivasan</td>\n",
       "      <td>NaN</td>\n",
       "    </tr>\n",
       "    <tr>\n",
       "      <th>744</th>\n",
       "      <td>11340</td>\n",
       "      <td>IPL-2019</td>\n",
       "      <td>Bengaluru</td>\n",
       "      <td>30-04-2019</td>\n",
       "      <td>Royal Challengers Bangalore</td>\n",
       "      <td>Rajasthan Royals</td>\n",
       "      <td>Rajasthan Royals</td>\n",
       "      <td>field</td>\n",
       "      <td>no result</td>\n",
       "      <td>0</td>\n",
       "      <td>no result</td>\n",
       "      <td>0</td>\n",
       "      <td>0</td>\n",
       "      <td>NaN</td>\n",
       "      <td>M. Chinnaswamy Stadium</td>\n",
       "      <td>Nigel Llong</td>\n",
       "      <td>Ulhas Gandhe</td>\n",
       "      <td>Anil Chaudhary</td>\n",
       "    </tr>\n",
       "  </tbody>\n",
       "</table>\n",
       "</div>"
      ],
      "text/plain": [
       "        id    Season       city        date                        team1  \\\n",
       "300    301  IPL-2011      Delhi  21-05-2011             Delhi Daredevils   \n",
       "545    546  IPL-2015  Bengaluru  29-04-2015  Royal Challengers Bangalore   \n",
       "570    571  IPL-2015  Bengaluru  17-05-2015             Delhi Daredevils   \n",
       "744  11340  IPL-2019  Bengaluru  30-04-2019  Royal Challengers Bangalore   \n",
       "\n",
       "                           team2                  toss_winner toss_decision  \\\n",
       "300                Pune Warriors             Delhi Daredevils           bat   \n",
       "545             Rajasthan Royals             Rajasthan Royals         field   \n",
       "570  Royal Challengers Bangalore  Royal Challengers Bangalore         field   \n",
       "744             Rajasthan Royals             Rajasthan Royals         field   \n",
       "\n",
       "        result  dl_applied     winner  win_by_runs  win_by_wickets  \\\n",
       "300  no result           0  no result            0               0   \n",
       "545  no result           0  no result            0               0   \n",
       "570  no result           0  no result            0               0   \n",
       "744  no result           0  no result            0               0   \n",
       "\n",
       "    player_of_match                   venue          umpire1       umpire2  \\\n",
       "300             NaN        Feroz Shah Kotla        SS Hazare     RJ Tucker   \n",
       "545             NaN   M Chinnaswamy Stadium        JD Cloete     PG Pathak   \n",
       "570             NaN   M Chinnaswamy Stadium  HDPK Dharmasena  K Srinivasan   \n",
       "744             NaN  M. Chinnaswamy Stadium      Nigel Llong  Ulhas Gandhe   \n",
       "\n",
       "            umpire3  \n",
       "300             NaN  \n",
       "545             NaN  \n",
       "570             NaN  \n",
       "744  Anil Chaudhary  "
      ]
     },
     "execution_count": 24,
     "metadata": {},
     "output_type": "execute_result"
    }
   ],
   "source": [
    "df[df[\"player_of_match\"].isna()]"
   ]
  },
  {
   "cell_type": "code",
   "execution_count": 25,
   "id": "3a5e3061",
   "metadata": {},
   "outputs": [],
   "source": [
    "df[\"player_of_match\"]=df[\"player_of_match\"].fillna(\"no result\")"
   ]
  },
  {
   "cell_type": "code",
   "execution_count": 26,
   "id": "e100fef1",
   "metadata": {},
   "outputs": [],
   "source": [
    "df=df.drop(columns=\"umpire3\",axis=1)"
   ]
  },
  {
   "cell_type": "code",
   "execution_count": 27,
   "id": "37273c3b",
   "metadata": {},
   "outputs": [],
   "source": [
    "df.dropna(inplace=True)"
   ]
  },
  {
   "cell_type": "code",
   "execution_count": 28,
   "id": "a2ab743f",
   "metadata": {},
   "outputs": [
    {
     "name": "stdout",
     "output_type": "stream",
     "text": [
      "<class 'pandas.core.frame.DataFrame'>\n",
      "Index: 754 entries, 0 to 755\n",
      "Data columns (total 17 columns):\n",
      " #   Column           Non-Null Count  Dtype \n",
      "---  ------           --------------  ----- \n",
      " 0   id               754 non-null    int64 \n",
      " 1   Season           754 non-null    object\n",
      " 2   city             754 non-null    object\n",
      " 3   date             754 non-null    object\n",
      " 4   team1            754 non-null    object\n",
      " 5   team2            754 non-null    object\n",
      " 6   toss_winner      754 non-null    object\n",
      " 7   toss_decision    754 non-null    object\n",
      " 8   result           754 non-null    object\n",
      " 9   dl_applied       754 non-null    int64 \n",
      " 10  winner           754 non-null    object\n",
      " 11  win_by_runs      754 non-null    int64 \n",
      " 12  win_by_wickets   754 non-null    int64 \n",
      " 13  player_of_match  754 non-null    object\n",
      " 14  venue            754 non-null    object\n",
      " 15  umpire1          754 non-null    object\n",
      " 16  umpire2          754 non-null    object\n",
      "dtypes: int64(4), object(13)\n",
      "memory usage: 106.0+ KB\n"
     ]
    }
   ],
   "source": [
    "df.info()"
   ]
  },
  {
   "cell_type": "code",
   "execution_count": 29,
   "id": "4fdeadaf",
   "metadata": {},
   "outputs": [],
   "source": [
    "df['date'] = pd.to_datetime(df['date'],dayfirst=True)"
   ]
  },
  {
   "cell_type": "code",
   "execution_count": 30,
   "id": "361552a7",
   "metadata": {},
   "outputs": [],
   "source": [
    "df=df.drop(columns=\"id\",axis=1)"
   ]
  },
  {
   "cell_type": "code",
   "execution_count": 31,
   "id": "9564ddf4",
   "metadata": {},
   "outputs": [
    {
     "data": {
      "text/html": [
       "<div>\n",
       "<style scoped>\n",
       "    .dataframe tbody tr th:only-of-type {\n",
       "        vertical-align: middle;\n",
       "    }\n",
       "\n",
       "    .dataframe tbody tr th {\n",
       "        vertical-align: top;\n",
       "    }\n",
       "\n",
       "    .dataframe thead th {\n",
       "        text-align: right;\n",
       "    }\n",
       "</style>\n",
       "<table border=\"1\" class=\"dataframe\">\n",
       "  <thead>\n",
       "    <tr style=\"text-align: right;\">\n",
       "      <th></th>\n",
       "      <th>Season</th>\n",
       "      <th>city</th>\n",
       "      <th>date</th>\n",
       "      <th>team1</th>\n",
       "      <th>team2</th>\n",
       "      <th>toss_winner</th>\n",
       "      <th>toss_decision</th>\n",
       "      <th>result</th>\n",
       "      <th>dl_applied</th>\n",
       "      <th>winner</th>\n",
       "      <th>win_by_runs</th>\n",
       "      <th>win_by_wickets</th>\n",
       "      <th>player_of_match</th>\n",
       "      <th>venue</th>\n",
       "      <th>umpire1</th>\n",
       "      <th>umpire2</th>\n",
       "    </tr>\n",
       "  </thead>\n",
       "  <tbody>\n",
       "    <tr>\n",
       "      <th>0</th>\n",
       "      <td>IPL-2017</td>\n",
       "      <td>Hyderabad</td>\n",
       "      <td>2017-04-05</td>\n",
       "      <td>Sunrisers Hyderabad</td>\n",
       "      <td>Royal Challengers Bangalore</td>\n",
       "      <td>Royal Challengers Bangalore</td>\n",
       "      <td>field</td>\n",
       "      <td>normal</td>\n",
       "      <td>0</td>\n",
       "      <td>Sunrisers Hyderabad</td>\n",
       "      <td>35</td>\n",
       "      <td>0</td>\n",
       "      <td>Yuvraj Singh</td>\n",
       "      <td>Rajiv Gandhi International Stadium, Uppal</td>\n",
       "      <td>AY Dandekar</td>\n",
       "      <td>NJ Llong</td>\n",
       "    </tr>\n",
       "    <tr>\n",
       "      <th>1</th>\n",
       "      <td>IPL-2017</td>\n",
       "      <td>Pune</td>\n",
       "      <td>2017-04-06</td>\n",
       "      <td>Mumbai Indians</td>\n",
       "      <td>Rising Pune Supergiants</td>\n",
       "      <td>Rising Pune Supergiants</td>\n",
       "      <td>field</td>\n",
       "      <td>normal</td>\n",
       "      <td>0</td>\n",
       "      <td>Rising Pune Supergiants</td>\n",
       "      <td>0</td>\n",
       "      <td>7</td>\n",
       "      <td>SPD Smith</td>\n",
       "      <td>Maharashtra Cricket Association Stadium</td>\n",
       "      <td>A Nand Kishore</td>\n",
       "      <td>S Ravi</td>\n",
       "    </tr>\n",
       "    <tr>\n",
       "      <th>2</th>\n",
       "      <td>IPL-2017</td>\n",
       "      <td>Rajkot</td>\n",
       "      <td>2017-04-07</td>\n",
       "      <td>Gujarat Lions</td>\n",
       "      <td>Kolkata Knight Riders</td>\n",
       "      <td>Kolkata Knight Riders</td>\n",
       "      <td>field</td>\n",
       "      <td>normal</td>\n",
       "      <td>0</td>\n",
       "      <td>Kolkata Knight Riders</td>\n",
       "      <td>0</td>\n",
       "      <td>10</td>\n",
       "      <td>CA Lynn</td>\n",
       "      <td>Saurashtra Cricket Association Stadium</td>\n",
       "      <td>Nitin Menon</td>\n",
       "      <td>CK Nandan</td>\n",
       "    </tr>\n",
       "    <tr>\n",
       "      <th>3</th>\n",
       "      <td>IPL-2017</td>\n",
       "      <td>Indore</td>\n",
       "      <td>2017-04-08</td>\n",
       "      <td>Rising Pune Supergiants</td>\n",
       "      <td>Kings XI Punjab</td>\n",
       "      <td>Kings XI Punjab</td>\n",
       "      <td>field</td>\n",
       "      <td>normal</td>\n",
       "      <td>0</td>\n",
       "      <td>Kings XI Punjab</td>\n",
       "      <td>0</td>\n",
       "      <td>6</td>\n",
       "      <td>GJ Maxwell</td>\n",
       "      <td>Holkar Cricket Stadium</td>\n",
       "      <td>AK Chaudhary</td>\n",
       "      <td>C Shamshuddin</td>\n",
       "    </tr>\n",
       "    <tr>\n",
       "      <th>5</th>\n",
       "      <td>IPL-2017</td>\n",
       "      <td>Hyderabad</td>\n",
       "      <td>2017-04-09</td>\n",
       "      <td>Gujarat Lions</td>\n",
       "      <td>Sunrisers Hyderabad</td>\n",
       "      <td>Sunrisers Hyderabad</td>\n",
       "      <td>field</td>\n",
       "      <td>normal</td>\n",
       "      <td>0</td>\n",
       "      <td>Sunrisers Hyderabad</td>\n",
       "      <td>0</td>\n",
       "      <td>9</td>\n",
       "      <td>Rashid Khan</td>\n",
       "      <td>Rajiv Gandhi International Stadium, Uppal</td>\n",
       "      <td>A Deshmukh</td>\n",
       "      <td>NJ Llong</td>\n",
       "    </tr>\n",
       "  </tbody>\n",
       "</table>\n",
       "</div>"
      ],
      "text/plain": [
       "     Season       city       date                    team1  \\\n",
       "0  IPL-2017  Hyderabad 2017-04-05      Sunrisers Hyderabad   \n",
       "1  IPL-2017       Pune 2017-04-06           Mumbai Indians   \n",
       "2  IPL-2017     Rajkot 2017-04-07            Gujarat Lions   \n",
       "3  IPL-2017     Indore 2017-04-08  Rising Pune Supergiants   \n",
       "5  IPL-2017  Hyderabad 2017-04-09            Gujarat Lions   \n",
       "\n",
       "                         team2                  toss_winner toss_decision  \\\n",
       "0  Royal Challengers Bangalore  Royal Challengers Bangalore         field   \n",
       "1      Rising Pune Supergiants      Rising Pune Supergiants         field   \n",
       "2        Kolkata Knight Riders        Kolkata Knight Riders         field   \n",
       "3              Kings XI Punjab              Kings XI Punjab         field   \n",
       "5          Sunrisers Hyderabad          Sunrisers Hyderabad         field   \n",
       "\n",
       "   result  dl_applied                   winner  win_by_runs  win_by_wickets  \\\n",
       "0  normal           0      Sunrisers Hyderabad           35               0   \n",
       "1  normal           0  Rising Pune Supergiants            0               7   \n",
       "2  normal           0    Kolkata Knight Riders            0              10   \n",
       "3  normal           0          Kings XI Punjab            0               6   \n",
       "5  normal           0      Sunrisers Hyderabad            0               9   \n",
       "\n",
       "  player_of_match                                      venue         umpire1  \\\n",
       "0    Yuvraj Singh  Rajiv Gandhi International Stadium, Uppal     AY Dandekar   \n",
       "1       SPD Smith    Maharashtra Cricket Association Stadium  A Nand Kishore   \n",
       "2         CA Lynn     Saurashtra Cricket Association Stadium     Nitin Menon   \n",
       "3      GJ Maxwell                     Holkar Cricket Stadium    AK Chaudhary   \n",
       "5     Rashid Khan  Rajiv Gandhi International Stadium, Uppal      A Deshmukh   \n",
       "\n",
       "         umpire2  \n",
       "0       NJ Llong  \n",
       "1         S Ravi  \n",
       "2      CK Nandan  \n",
       "3  C Shamshuddin  \n",
       "5       NJ Llong  "
      ]
     },
     "execution_count": 31,
     "metadata": {},
     "output_type": "execute_result"
    }
   ],
   "source": [
    "df.head()"
   ]
  },
  {
   "cell_type": "code",
   "execution_count": 32,
   "id": "7386f550",
   "metadata": {},
   "outputs": [
    {
     "data": {
      "text/plain": [
       "toss_decision\n",
       "field    462\n",
       "bat      292\n",
       "Name: count, dtype: int64"
      ]
     },
     "execution_count": 32,
     "metadata": {},
     "output_type": "execute_result"
    }
   ],
   "source": [
    "df[\"toss_decision\"].value_counts()"
   ]
  },
  {
   "cell_type": "markdown",
   "id": "c6a00c49-a0f0-4435-8ee2-2fa48cff0c6f",
   "metadata": {},
   "source": [
    "## EDA"
   ]
  },
  {
   "cell_type": "code",
   "execution_count": 34,
   "id": "2b0c1d14",
   "metadata": {},
   "outputs": [],
   "source": [
    "import matplotlib.pyplot as plt\n",
    "import seaborn as sns"
   ]
  },
  {
   "cell_type": "code",
   "execution_count": 35,
   "id": "dda18548",
   "metadata": {},
   "outputs": [],
   "source": [
    "top_10_player_of_the_match = df[\"player_of_match\"].value_counts().head(10).index\n"
   ]
  },
  {
   "cell_type": "code",
   "execution_count": 36,
   "id": "591e96ce-169d-4e66-9a4f-a23f182751d6",
   "metadata": {},
   "outputs": [
    {
     "data": {
      "text/plain": [
       "Index(['CH Gayle', 'AB de Villiers', 'DA Warner', 'RG Sharma', 'MS Dhoni',\n",
       "       'YK Pathan', 'SR Watson', 'SK Raina', 'G Gambhir', 'V Kohli'],\n",
       "      dtype='object', name='player_of_match')"
      ]
     },
     "execution_count": 36,
     "metadata": {},
     "output_type": "execute_result"
    }
   ],
   "source": [
    "top_10_player_of_the_match"
   ]
  },
  {
   "cell_type": "code",
   "execution_count": 37,
   "id": "fdff38a1-1732-4f4c-9f37-596f50fcdf48",
   "metadata": {},
   "outputs": [],
   "source": [
    "top_10_players = df[\"player_of_match\"].value_counts().head(10)\n",
    "players = top_10_players.index\n",
    "counts = top_10_players.values"
   ]
  },
  {
   "cell_type": "code",
   "execution_count": 38,
   "id": "b926e297-3289-4945-a102-63a92abe2aa7",
   "metadata": {},
   "outputs": [
    {
     "data": {
      "image/png": "[encoded data removed]",
      "text/plain": [
       "<Figure size 1000x600 with 1 Axes>"
      ]
     },
     "metadata": {},
     "output_type": "display_data"
    }
   ],
   "source": [
    "plt.figure(figsize=(10, 6))\n",
    "bars = plt.bar(players, counts, color='skyblue')\n",
    "\n",
    "plt.title(\"Top 10 Player of the Match Awards\")\n",
    "plt.xlabel(\"Player\")\n",
    "plt.ylabel(\"Number of Awards\")\n",
    "plt.xticks(rotation=45)\n",
    "for bar in bars:\n",
    "    height = bar.get_height()\n",
    "    plt.text(bar.get_x() + bar.get_width()/2., height + 1, f'{int(height)}', \n",
    "             ha='center', va='bottom', fontsize=10)\n",
    "\n",
    "plt.tight_layout()\n",
    "plt.show()"
   ]
  },
  {
   "cell_type": "code",
   "execution_count": 39,
   "id": "7d13b812-1476-40db-aca9-eb73d77e6efc",
   "metadata": {},
   "outputs": [
    {
     "data": {
      "text/plain": [
       "<Figure size 640x480 with 0 Axes>"
      ]
     },
     "metadata": {},
     "output_type": "display_data"
    }
   ],
   "source": [
    "plt.savefig(\"top_5_player_of_the_match.png\")"
   ]
  },
  {
   "cell_type": "code",
   "execution_count": 40,
   "id": "4a16d0cc",
   "metadata": {},
   "outputs": [],
   "source": [
    "top__winner = df['winner'].value_counts().nlargest(10)"
   ]
  },
  {
   "cell_type": "code",
   "execution_count": 41,
   "id": "68898d73-3a22-4335-aa21-c6bbaecf36be",
   "metadata": {},
   "outputs": [
    {
     "data": {
      "text/plain": [
       "winner\n",
       "Mumbai Indians                 109\n",
       "Chennai Super Kings            100\n",
       "Kolkata Knight Riders           92\n",
       "Royal Challengers Bangalore     83\n",
       "Kings XI Punjab                 82\n",
       "Rajasthan Royals                75\n",
       "Delhi Daredevils                67\n",
       "Sunrisers Hyderabad             58\n",
       "Deccan Chargers                 29\n",
       "Rising Pune Supergiants         15\n",
       "Name: count, dtype: int64"
      ]
     },
     "execution_count": 41,
     "metadata": {},
     "output_type": "execute_result"
    }
   ],
   "source": [
    "top__winner"
   ]
  },
  {
   "cell_type": "code",
   "execution_count": 42,
   "id": "666c6084",
   "metadata": {},
   "outputs": [
    {
     "data": {
      "text/plain": [
       "winner\n",
       "Mumbai Indians                 14.456233\n",
       "Chennai Super Kings            13.262599\n",
       "Kolkata Knight Riders          12.201592\n",
       "Royal Challengers Bangalore    11.007958\n",
       "Kings XI Punjab                10.875332\n",
       "Rajasthan Royals                9.946950\n",
       "Delhi Daredevils                8.885942\n",
       "Sunrisers Hyderabad             7.692308\n",
       "Deccan Chargers                 3.846154\n",
       "Rising Pune Supergiants         1.989390\n",
       "Name: count, dtype: float64"
      ]
     },
     "execution_count": 42,
     "metadata": {},
     "output_type": "execute_result"
    }
   ],
   "source": [
    "percentages_of_top= top__winner / len(df) * 100\n",
    "percentages_of_top"
   ]
  },
  {
   "cell_type": "code",
   "execution_count": 43,
   "id": "2748a4b5-6bf8-456e-8bef-44995083aa28",
   "metadata": {},
   "outputs": [
    {
     "data": {
      "image/png": "[encoded data removed]",
      "text/plain": [
       "<Figure size 800x800 with 1 Axes>"
      ]
     },
     "metadata": {},
     "output_type": "display_data"
    }
   ],
   "source": [
    "plt.figure(figsize=(8, 8))\n",
    "plt.pie(\n",
    "    percentages_of_top, \n",
    "    labels=percentages_of_top.index, \n",
    "    autopct='%1.1f%%', \n",
    "    startangle=140, \n",
    "    colors=plt.cm.Paired.colors\n",
    ")\n",
    "plt.title(\"Top Team Win Percentages\")\n",
    "plt.axis('equal') \n",
    "plt.tight_layout()\n",
    "plt.show()"
   ]
  },
  {
   "cell_type": "code",
   "execution_count": 44,
   "id": "1402cf25-5f40-4ae8-9413-3a973307bd73",
   "metadata": {},
   "outputs": [
    {
     "data": {
      "text/plain": [
       "<Figure size 640x480 with 0 Axes>"
      ]
     },
     "metadata": {},
     "output_type": "display_data"
    }
   ],
   "source": [
    "plt.savefig(\"top_team_win_percentages.png\")"
   ]
  },
  {
   "cell_type": "code",
   "execution_count": 45,
   "id": "bf311929",
   "metadata": {},
   "outputs": [],
   "source": [
    "x=df[[\"win_by_wickets\",\"win_by_runs\"]]\n",
    "y=df[\"toss_decision\"].map({\"field\":0,\"bat\":1})"
   ]
  },
  {
   "cell_type": "code",
   "execution_count": 46,
   "id": "5c5b36e4",
   "metadata": {},
   "outputs": [],
   "source": [
    "df['toss_decisions'] = df['toss_decision'].map({'field': 0, 'bat': 1})"
   ]
  },
  {
   "cell_type": "code",
   "execution_count": 47,
   "id": "66c9603c-e836-488a-bf2f-cabdb3152c39",
   "metadata": {},
   "outputs": [],
   "source": [
    "correlation= df[['win_by_wickets', 'win_by_runs', 'toss_decisions']]"
   ]
  },
  {
   "cell_type": "code",
   "execution_count": 48,
   "id": "79a2be79-4871-4d6b-b11f-0f322cc988e5",
   "metadata": {},
   "outputs": [
    {
     "data": {
      "image/png": "[encoded data removed]",
      "text/plain": [
       "<Figure size 600x400 with 2 Axes>"
      ]
     },
     "metadata": {},
     "output_type": "display_data"
    }
   ],
   "source": [
    "corr_matrix = correlation.corr()\n",
    "plt.figure(figsize=(6, 4))\n",
    "sns.heatmap(corr_matrix, annot=True, cmap='coolwarm', fmt=\".2f\", square=True, cbar_kws={'shrink': 0.8})\n",
    "plt.title(\"Correlation Heatmap\")\n",
    "plt.tight_layout()\n",
    "plt.show()"
   ]
  },
  {
   "cell_type": "code",
   "execution_count": 49,
   "id": "394eaa24-bc02-4ea6-b82d-40e64b0a4280",
   "metadata": {},
   "outputs": [
    {
     "data": {
      "text/plain": [
       "<Figure size 640x480 with 0 Axes>"
      ]
     },
     "metadata": {},
     "output_type": "display_data"
    }
   ],
   "source": [
    "plt.savefig(\"correlation_heatmap.png\")"
   ]
  },
  {
   "cell_type": "code",
   "execution_count": 50,
   "id": "9518f9b7-3e56-4157-b12b-6d9e014bdaf0",
   "metadata": {},
   "outputs": [
    {
     "data": {
      "text/plain": [
       "toss_decision\n",
       "field    462\n",
       "bat      292\n",
       "Name: count, dtype: int64"
      ]
     },
     "execution_count": 50,
     "metadata": {},
     "output_type": "execute_result"
    }
   ],
   "source": [
    "df['toss_decision'].value_counts()"
   ]
  },
  {
   "cell_type": "code",
   "execution_count": 51,
   "id": "833866f6",
   "metadata": {},
   "outputs": [],
   "source": [
    "toss_winner_won = (df['toss_winner'] == df['winner']).sum()\n",
    "toss_winner_lost = len(df) - toss_winner_won\n",
    "\n",
    "counts = [toss_winner_won, toss_winner_lost]\n",
    "labels = ['Toss Winner Won Match', 'Toss Winner Lost Match']"
   ]
  },
  {
   "cell_type": "code",
   "execution_count": 52,
   "id": "a823640f",
   "metadata": {},
   "outputs": [
    {
     "data": {
      "image/png": "[encoded data removed]",
      "text/plain": [
       "<Figure size 600x600 with 1 Axes>"
      ]
     },
     "metadata": {},
     "output_type": "display_data"
    }
   ],
   "source": [
    "plt.figure(figsize=(6, 6))\n",
    "plt.pie(\n",
    "    counts, \n",
    "    labels=labels, \n",
    "    autopct='%1.1f%%', \n",
    "    startangle=90, \n",
    "    colors=['#66b3ff', '#ff9999']\n",
    ")\n",
    "plt.title('Match Outcome Based on Toss Winner')\n",
    "plt.axis('equal')\n",
    "plt.tight_layout()\n",
    "plt.show()"
   ]
  },
  {
   "cell_type": "code",
   "execution_count": 53,
   "id": "ed13370e",
   "metadata": {},
   "outputs": [
    {
     "data": {
      "image/png": "[encoded data removed]",
      "text/plain": [
       "<Figure size 1200x600 with 1 Axes>"
      ]
     },
     "metadata": {},
     "output_type": "display_data"
    }
   ],
   "source": [
    "plt.figure(figsize=(12, 6))\n",
    "sns.countplot(x='city', data=df, order=df['city'].value_counts().index, palette='viridis')\n",
    "\n",
    "plt.xticks(rotation=90)\n",
    "plt.title(\"Match Count by City\")\n",
    "plt.xlabel(\"City\")\n",
    "plt.ylabel(\"Number of Matches\")\n",
    "plt.tight_layout()\n",
    "plt.show()"
   ]
  },
  {
   "cell_type": "code",
   "execution_count": 54,
   "id": "3024d145-9815-4683-b759-3af90c9ede49",
   "metadata": {},
   "outputs": [
    {
     "data": {
      "text/plain": [
       "<Figure size 640x480 with 0 Axes>"
      ]
     },
     "metadata": {},
     "output_type": "display_data"
    }
   ],
   "source": [
    "plt.savefig(\"match_count_by_city.png\")"
   ]
  },
  {
   "cell_type": "code",
   "execution_count": 55,
   "id": "71271e89",
   "metadata": {},
   "outputs": [],
   "source": [
    "df['year'] = pd.to_datetime(df['date']).dt.year\n",
    "yearly_matches = df['year'].value_counts().sort_index()"
   ]
  },
  {
   "cell_type": "code",
   "execution_count": 56,
   "id": "eee1c18b",
   "metadata": {},
   "outputs": [
    {
     "data": {
      "image/png": "[encoded data removed]",
      "text/plain": [
       "<Figure size 1000x600 with 1 Axes>"
      ]
     },
     "metadata": {},
     "output_type": "display_data"
    }
   ],
   "source": [
    "plt.figure(figsize=(10, 6))\n",
    "sns.set_style(\"whitegrid\")  # Cleaner background\n",
    "bars = sns.barplot(x=yearly_matches.index, y=yearly_matches.values, palette=\"Set2\")\n",
    "for bar in bars.patches:\n",
    "    height = bar.get_height()\n",
    "    plt.text(bar.get_x() + bar.get_width() / 2., height + 0.5, int(height),\n",
    "             ha='center', va='bottom', fontsize=10, fontweight='bold', color='black')\n",
    "plt.xlabel('Year', fontsize=12)\n",
    "plt.ylabel('Number of Matches', fontsize=12)\n",
    "plt.title('Matches Played per Year', fontsize=14, fontweight='bold')\n",
    "plt.xticks(rotation=45)\n",
    "plt.tight_layout()\n",
    "plt.show()"
   ]
  },
  {
   "cell_type": "code",
   "execution_count": 57,
   "id": "03698414-d529-44b0-bf66-986c7b1b55f2",
   "metadata": {},
   "outputs": [
    {
     "data": {
      "text/plain": [
       "<Figure size 640x480 with 0 Axes>"
      ]
     },
     "metadata": {},
     "output_type": "display_data"
    }
   ],
   "source": [
    "plt.savefig(\"styled_matches_per_year.png\", dpi=300)"
   ]
  },
  {
   "cell_type": "code",
   "execution_count": 58,
   "id": "d148e35d-4a69-405f-9615-ed7c78d32918",
   "metadata": {},
   "outputs": [
    {
     "name": "stdout",
     "output_type": "stream",
     "text": [
      "                                                 venue  \\\n",
      "0                                     ACA-VDCA Stadium   \n",
      "1                                     Barabati Stadium   \n",
      "5                                    Brabourne Stadium   \n",
      "9                                         Buffalo Park   \n",
      "12                               De Beers Diamond Oval   \n",
      "19                          Dr DY Patil Sports Academy   \n",
      "29   Dr. Y.S. Rajasekhara Reddy ACA-VDCA Cricket St...   \n",
      "30                 Dubai International Cricket Stadium   \n",
      "41                                        Eden Gardens   \n",
      "49                                    Feroz Shah Kotla   \n",
      "62                             Feroz Shah Kotla Ground   \n",
      "66                                          Green Park   \n",
      "71        Himachal Pradesh Cricket Association Stadium   \n",
      "72                              Holkar Cricket Stadium   \n",
      "77                                   IS Bindra Stadium   \n",
      "80                  JSCA International Stadium Complex   \n",
      "87                                           Kingsmead   \n",
      "101                              M Chinnaswamy Stadium   \n",
      "104                          M. A. Chidambaram Stadium   \n",
      "109                             M. Chinnaswamy Stadium   \n",
      "111                    MA Chidambaram Stadium, Chepauk   \n",
      "120            Maharashtra Cricket Association Stadium   \n",
      "130                                      Nehru Stadium   \n",
      "136                              New Wanderers Stadium   \n",
      "137                                           Newlands   \n",
      "143                                    OUTsurance Oval   \n",
      "146  Punjab Cricket Association IS Bindra Stadium, ...   \n",
      "153         Punjab Cricket Association Stadium, Mohali   \n",
      "170          Rajiv Gandhi International Stadium, Uppal   \n",
      "173                 Rajiv Gandhi Intl. Cricket Stadium   \n",
      "177                       Sardar Patel Stadium, Motera   \n",
      "181             Saurashtra Cricket Association Stadium   \n",
      "193                             Sawai Mansingh Stadium   \n",
      "196   Shaheed Veer Narayan Singh International Stadium   \n",
      "201                            Sharjah Cricket Stadium   \n",
      "207                               Sheikh Zayed Stadium   \n",
      "208                                   St George's Park   \n",
      "219                         Subrata Roy Sahara Stadium   \n",
      "223                                    SuperSport Park   \n",
      "230       Vidarbha Cricket Association Stadium, Jamtha   \n",
      "240                                   Wankhede Stadium   \n",
      "\n",
      "                          winner  wins  \n",
      "0            Chennai Super Kings     1  \n",
      "1                Deccan Chargers     3  \n",
      "5                 Mumbai Indians     6  \n",
      "9            Chennai Super Kings     1  \n",
      "12           Chennai Super Kings     1  \n",
      "19                Mumbai Indians     5  \n",
      "29           Sunrisers Hyderabad     3  \n",
      "30           Chennai Super Kings     2  \n",
      "41         Kolkata Knight Riders    45  \n",
      "49              Delhi Daredevils    27  \n",
      "62                Delhi Capitals     4  \n",
      "66                 Gujarat Lions     2  \n",
      "71               Kings XI Punjab     5  \n",
      "72               Kings XI Punjab     4  \n",
      "77               Kings XI Punjab     5  \n",
      "80           Chennai Super Kings     3  \n",
      "87              Delhi Daredevils     3  \n",
      "101  Royal Challengers Bangalore    33  \n",
      "104          Chennai Super Kings     6  \n",
      "109  Royal Challengers Bangalore     3  \n",
      "111          Chennai Super Kings    34  \n",
      "120          Chennai Super Kings     5  \n",
      "130         Kochi Tuskers Kerala     2  \n",
      "136  Royal Challengers Bangalore     3  \n",
      "137              Deccan Chargers     2  \n",
      "143             Delhi Daredevils     1  \n",
      "146              Kings XI Punjab     7  \n",
      "153              Kings XI Punjab    18  \n",
      "170          Sunrisers Hyderabad    25  \n",
      "173          Sunrisers Hyderabad     5  \n",
      "177             Rajasthan Royals     7  \n",
      "181                Gujarat Lions     3  \n",
      "193             Rajasthan Royals    32  \n",
      "196             Delhi Daredevils     4  \n",
      "201              Kings XI Punjab     2  \n",
      "207             Rajasthan Royals     3  \n",
      "208          Chennai Super Kings     2  \n",
      "219                Pune Warriors     4  \n",
      "223          Chennai Super Kings     2  \n",
      "230              Deccan Chargers     2  \n",
      "240               Mumbai Indians    42  \n"
     ]
    }
   ],
   "source": [
    "team_venue_wins = df.groupby(['venue', 'winner']).size().reset_index(name='wins')\n",
    "top_performing_teams = team_venue_wins.loc[team_venue_wins.groupby('venue')['wins'].idxmax()]\n",
    "\n",
    "print(top_performing_teams)"
   ]
  },
  {
   "cell_type": "code",
   "execution_count": 59,
   "id": "694349bf-e708-49fa-8932-32eeb2219312",
   "metadata": {},
   "outputs": [],
   "source": [
    "top_teams_by_venue = (df.groupby(['venue', 'winner']).size().reset_index(name='wins').sort_values('wins', ascending=False)\n",
    "    .groupby('venue').head(1).reset_index(drop=True))"
   ]
  },
  {
   "cell_type": "code",
   "execution_count": 60,
   "id": "4d569b97-624f-4496-be60-ff0333117558",
   "metadata": {},
   "outputs": [
    {
     "name": "stdout",
     "output_type": "stream",
     "text": [
      "                                                venue  \\\n",
      "0                                        Eden Gardens   \n",
      "1                                    Wankhede Stadium   \n",
      "2                     MA Chidambaram Stadium, Chepauk   \n",
      "3                               M Chinnaswamy Stadium   \n",
      "4                              Sawai Mansingh Stadium   \n",
      "5                                    Feroz Shah Kotla   \n",
      "6           Rajiv Gandhi International Stadium, Uppal   \n",
      "7          Punjab Cricket Association Stadium, Mohali   \n",
      "8                        Sardar Patel Stadium, Motera   \n",
      "9   Punjab Cricket Association IS Bindra Stadium, ...   \n",
      "10                                  Brabourne Stadium   \n",
      "11                          M. A. Chidambaram Stadium   \n",
      "12       Himachal Pradesh Cricket Association Stadium   \n",
      "13                 Rajiv Gandhi Intl. Cricket Stadium   \n",
      "14            Maharashtra Cricket Association Stadium   \n",
      "15                                  IS Bindra Stadium   \n",
      "16                         Dr DY Patil Sports Academy   \n",
      "17                            Feroz Shah Kotla Ground   \n",
      "18   Shaheed Veer Narayan Singh International Stadium   \n",
      "19                         Subrata Roy Sahara Stadium   \n",
      "20                             Holkar Cricket Stadium   \n",
      "21                                          Kingsmead   \n",
      "22                                   Barabati Stadium   \n",
      "23                               Sheikh Zayed Stadium   \n",
      "24                 JSCA International Stadium Complex   \n",
      "25                             M. Chinnaswamy Stadium   \n",
      "26                              New Wanderers Stadium   \n",
      "27  Dr. Y.S. Rajasekhara Reddy ACA-VDCA Cricket St...   \n",
      "28             Saurashtra Cricket Association Stadium   \n",
      "29                                           Newlands   \n",
      "30                                      Nehru Stadium   \n",
      "31                                    SuperSport Park   \n",
      "32                                   St George's Park   \n",
      "33                                         Green Park   \n",
      "34       Vidarbha Cricket Association Stadium, Jamtha   \n",
      "35                Dubai International Cricket Stadium   \n",
      "36                            Sharjah Cricket Stadium   \n",
      "37                                   ACA-VDCA Stadium   \n",
      "38                                       Buffalo Park   \n",
      "39                              De Beers Diamond Oval   \n",
      "40                                    OUTsurance Oval   \n",
      "\n",
      "                         winner  wins  \n",
      "0         Kolkata Knight Riders    45  \n",
      "1                Mumbai Indians    42  \n",
      "2           Chennai Super Kings    34  \n",
      "3   Royal Challengers Bangalore    33  \n",
      "4              Rajasthan Royals    32  \n",
      "5              Delhi Daredevils    27  \n",
      "6           Sunrisers Hyderabad    25  \n",
      "7               Kings XI Punjab    18  \n",
      "8              Rajasthan Royals     7  \n",
      "9               Kings XI Punjab     7  \n",
      "10               Mumbai Indians     6  \n",
      "11          Chennai Super Kings     6  \n",
      "12              Kings XI Punjab     5  \n",
      "13          Sunrisers Hyderabad     5  \n",
      "14          Chennai Super Kings     5  \n",
      "15              Kings XI Punjab     5  \n",
      "16               Mumbai Indians     5  \n",
      "17               Delhi Capitals     4  \n",
      "18             Delhi Daredevils     4  \n",
      "19                Pune Warriors     4  \n",
      "20              Kings XI Punjab     4  \n",
      "21  Royal Challengers Bangalore     3  \n",
      "22              Deccan Chargers     3  \n",
      "23             Rajasthan Royals     3  \n",
      "24          Chennai Super Kings     3  \n",
      "25  Royal Challengers Bangalore     3  \n",
      "26  Royal Challengers Bangalore     3  \n",
      "27          Sunrisers Hyderabad     3  \n",
      "28                Gujarat Lions     3  \n",
      "29              Deccan Chargers     2  \n",
      "30         Kochi Tuskers Kerala     2  \n",
      "31  Royal Challengers Bangalore     2  \n",
      "32               Mumbai Indians     2  \n",
      "33                Gujarat Lions     2  \n",
      "34              Deccan Chargers     2  \n",
      "35          Chennai Super Kings     2  \n",
      "36              Kings XI Punjab     2  \n",
      "37          Chennai Super Kings     1  \n",
      "38          Chennai Super Kings     1  \n",
      "39          Chennai Super Kings     1  \n",
      "40             Delhi Daredevils     1  \n"
     ]
    }
   ],
   "source": [
    "print(top_teams_by_venue)"
   ]
  },
  {
   "cell_type": "code",
   "execution_count": 61,
   "id": "7ab37ec8",
   "metadata": {},
   "outputs": [],
   "source": [
    "\n",
    "top_7_teams = df['winner'].value_counts().nlargest(7).index\n",
    "top_performing_teams_filtered = top_performing_teams[top_performing_teams['winner'].isin(top_7_teams)]"
   ]
  },
  {
   "cell_type": "code",
   "execution_count": 62,
   "id": "a50b4785",
   "metadata": {},
   "outputs": [
    {
     "data": {
      "image/png": "[encoded data removed]",
      "text/plain": [
       "<Figure size 1200x1000 with 1 Axes>"
      ]
     },
     "metadata": {},
     "output_type": "display_data"
    }
   ],
   "source": [
    "plt.figure(figsize=(12, 10))\n",
    "sns.set_style(\"whitegrid\")\n",
    "top_performing_teams_filtered = top_performing_teams_filtered.sort_values(by='wins', ascending=False)\n",
    "sns.barplot(\n",
    "    y='venue',\n",
    "    x='wins',\n",
    "    hue='winner',\n",
    "    data=top_performing_teams_filtered,\n",
    "    palette='Set2'\n",
    ")\n",
    "\n",
    "plt.title(\"Top Performing Teams by Venue\", fontsize=14, fontweight='bold')\n",
    "plt.xlabel(\"Number of Wins\", fontsize=12)\n",
    "plt.ylabel(\"Venue\", fontsize=12)\n",
    "plt.legend(title=\"Team\", bbox_to_anchor=(1.05, 1), loc='upper left')\n",
    "plt.tight_layout()\n",
    "plt.show()\n"
   ]
  },
  {
   "cell_type": "code",
   "execution_count": 63,
   "id": "4c1cf007-d330-4ef9-a1a8-0e5ba7fabd38",
   "metadata": {},
   "outputs": [
    {
     "data": {
      "text/plain": [
       "<Figure size 640x480 with 0 Axes>"
      ]
     },
     "metadata": {},
     "output_type": "display_data"
    }
   ],
   "source": [
    "plt.savefig(\"top_performing_teams_horizontal.png\", dpi=300)"
   ]
  },
  {
   "cell_type": "code",
   "execution_count": 64,
   "id": "dc5a2626",
   "metadata": {},
   "outputs": [],
   "source": [
    "bottom_7_teams = df['winner'].value_counts().nsmallest(7).index\n",
    "bottom_performing_teams_filtered = top_teams_by_venue[top_teams_by_venue['winner'].isin(bottom_7_teams)]"
   ]
  },
  {
   "cell_type": "code",
   "execution_count": 65,
   "id": "b07def89",
   "metadata": {},
   "outputs": [
    {
     "data": {
      "image/png": "[encoded data removed]",
      "text/plain": [
       "<Figure size 1000x600 with 1 Axes>"
      ]
     },
     "metadata": {},
     "output_type": "display_data"
    }
   ],
   "source": [
    "plt.figure(figsize=(10, 6))\n",
    "sns.set_style(\"whitegrid\")\n",
    "sns.barplot(\n",
    "    y='venue',\n",
    "    x='wins',\n",
    "    hue='winner',\n",
    "    data=bottom_performing_teams_filtered,\n",
    "    palette='coolwarm'\n",
    ")\n",
    "plt.title(\"Lowest Winning Teams by Venue\", fontsize=14, fontweight='bold')\n",
    "plt.xlabel(\"Wins\", fontsize=12)\n",
    "plt.ylabel(\"Venue\", fontsize=12)\n",
    "plt.legend(title='Team', bbox_to_anchor=(1.05, 1), loc='upper left')\n",
    "plt.tight_layout()\n",
    "plt.show()"
   ]
  },
  {
   "cell_type": "code",
   "execution_count": 66,
   "id": "8573425f-6950-4ce1-aa33-d387f9602b84",
   "metadata": {},
   "outputs": [
    {
     "data": {
      "text/plain": [
       "<Figure size 640x480 with 0 Axes>"
      ]
     },
     "metadata": {},
     "output_type": "display_data"
    }
   ],
   "source": [
    "plt.savefig(\"lowest_winning_teams_by_venue_horizontal.png\", dpi=300)"
   ]
  },
  {
   "cell_type": "markdown",
   "id": "f427f5a4",
   "metadata": {},
   "source": [
    " ## MACHINE LEARNING"
   ]
  },
  {
   "cell_type": "code",
   "execution_count": 68,
   "id": "5de03d87",
   "metadata": {},
   "outputs": [],
   "source": [
    "import pandas as pd\n",
    "from sklearn.model_selection import train_test_split\n",
    "from sklearn.preprocessing import StandardScaler, OneHotEncoder, LabelEncoder\n",
    "from sklearn.linear_model import LinearRegression, LogisticRegression\n",
    "from sklearn.svm import SVC\n",
    "from sklearn.neighbors import KNeighborsClassifier\n",
    "from sklearn.tree import DecisionTreeClassifier\n",
    "from sklearn.ensemble import RandomForestClassifier\n",
    "from sklearn.metrics import accuracy_score, classification_report,confusion_matrix, precision_score, recall_score, f1_score\n",
    "from sklearn.model_selection import GridSearchCV, RandomizedSearchCV\n",
    "from imblearn.over_sampling import SMOTE\n",
    "from statsmodels.stats.outliers_influence import variance_inflation_factor\n",
    "from sklearn.metrics import mean_squared_error, r2_score, mean_absolute_error\n",
    "from sklearn.compose import ColumnTransformer\n",
    "from xgboost import XGBClassifier\n",
    "from imblearn.under_sampling import RandomUnderSampler\n"
   ]
  },
  {
   "cell_type": "code",
   "execution_count": 69,
   "id": "fe4c20eb",
   "metadata": {},
   "outputs": [
    {
     "data": {
      "text/html": [
       "<div>\n",
       "<style scoped>\n",
       "    .dataframe tbody tr th:only-of-type {\n",
       "        vertical-align: middle;\n",
       "    }\n",
       "\n",
       "    .dataframe tbody tr th {\n",
       "        vertical-align: top;\n",
       "    }\n",
       "\n",
       "    .dataframe thead th {\n",
       "        text-align: right;\n",
       "    }\n",
       "</style>\n",
       "<table border=\"1\" class=\"dataframe\">\n",
       "  <thead>\n",
       "    <tr style=\"text-align: right;\">\n",
       "      <th></th>\n",
       "      <th>Season</th>\n",
       "      <th>city</th>\n",
       "      <th>date</th>\n",
       "      <th>team1</th>\n",
       "      <th>team2</th>\n",
       "      <th>toss_winner</th>\n",
       "      <th>toss_decision</th>\n",
       "      <th>result</th>\n",
       "      <th>dl_applied</th>\n",
       "      <th>winner</th>\n",
       "      <th>win_by_runs</th>\n",
       "      <th>win_by_wickets</th>\n",
       "      <th>player_of_match</th>\n",
       "      <th>venue</th>\n",
       "      <th>umpire1</th>\n",
       "      <th>umpire2</th>\n",
       "      <th>toss_decisions</th>\n",
       "      <th>year</th>\n",
       "    </tr>\n",
       "  </thead>\n",
       "  <tbody>\n",
       "    <tr>\n",
       "      <th>0</th>\n",
       "      <td>IPL-2017</td>\n",
       "      <td>Hyderabad</td>\n",
       "      <td>2017-04-05</td>\n",
       "      <td>Sunrisers Hyderabad</td>\n",
       "      <td>Royal Challengers Bangalore</td>\n",
       "      <td>Royal Challengers Bangalore</td>\n",
       "      <td>field</td>\n",
       "      <td>normal</td>\n",
       "      <td>0</td>\n",
       "      <td>Sunrisers Hyderabad</td>\n",
       "      <td>35</td>\n",
       "      <td>0</td>\n",
       "      <td>Yuvraj Singh</td>\n",
       "      <td>Rajiv Gandhi International Stadium, Uppal</td>\n",
       "      <td>AY Dandekar</td>\n",
       "      <td>NJ Llong</td>\n",
       "      <td>0</td>\n",
       "      <td>2017</td>\n",
       "    </tr>\n",
       "    <tr>\n",
       "      <th>1</th>\n",
       "      <td>IPL-2017</td>\n",
       "      <td>Pune</td>\n",
       "      <td>2017-04-06</td>\n",
       "      <td>Mumbai Indians</td>\n",
       "      <td>Rising Pune Supergiants</td>\n",
       "      <td>Rising Pune Supergiants</td>\n",
       "      <td>field</td>\n",
       "      <td>normal</td>\n",
       "      <td>0</td>\n",
       "      <td>Rising Pune Supergiants</td>\n",
       "      <td>0</td>\n",
       "      <td>7</td>\n",
       "      <td>SPD Smith</td>\n",
       "      <td>Maharashtra Cricket Association Stadium</td>\n",
       "      <td>A Nand Kishore</td>\n",
       "      <td>S Ravi</td>\n",
       "      <td>0</td>\n",
       "      <td>2017</td>\n",
       "    </tr>\n",
       "    <tr>\n",
       "      <th>2</th>\n",
       "      <td>IPL-2017</td>\n",
       "      <td>Rajkot</td>\n",
       "      <td>2017-04-07</td>\n",
       "      <td>Gujarat Lions</td>\n",
       "      <td>Kolkata Knight Riders</td>\n",
       "      <td>Kolkata Knight Riders</td>\n",
       "      <td>field</td>\n",
       "      <td>normal</td>\n",
       "      <td>0</td>\n",
       "      <td>Kolkata Knight Riders</td>\n",
       "      <td>0</td>\n",
       "      <td>10</td>\n",
       "      <td>CA Lynn</td>\n",
       "      <td>Saurashtra Cricket Association Stadium</td>\n",
       "      <td>Nitin Menon</td>\n",
       "      <td>CK Nandan</td>\n",
       "      <td>0</td>\n",
       "      <td>2017</td>\n",
       "    </tr>\n",
       "    <tr>\n",
       "      <th>3</th>\n",
       "      <td>IPL-2017</td>\n",
       "      <td>Indore</td>\n",
       "      <td>2017-04-08</td>\n",
       "      <td>Rising Pune Supergiants</td>\n",
       "      <td>Kings XI Punjab</td>\n",
       "      <td>Kings XI Punjab</td>\n",
       "      <td>field</td>\n",
       "      <td>normal</td>\n",
       "      <td>0</td>\n",
       "      <td>Kings XI Punjab</td>\n",
       "      <td>0</td>\n",
       "      <td>6</td>\n",
       "      <td>GJ Maxwell</td>\n",
       "      <td>Holkar Cricket Stadium</td>\n",
       "      <td>AK Chaudhary</td>\n",
       "      <td>C Shamshuddin</td>\n",
       "      <td>0</td>\n",
       "      <td>2017</td>\n",
       "    </tr>\n",
       "    <tr>\n",
       "      <th>5</th>\n",
       "      <td>IPL-2017</td>\n",
       "      <td>Hyderabad</td>\n",
       "      <td>2017-04-09</td>\n",
       "      <td>Gujarat Lions</td>\n",
       "      <td>Sunrisers Hyderabad</td>\n",
       "      <td>Sunrisers Hyderabad</td>\n",
       "      <td>field</td>\n",
       "      <td>normal</td>\n",
       "      <td>0</td>\n",
       "      <td>Sunrisers Hyderabad</td>\n",
       "      <td>0</td>\n",
       "      <td>9</td>\n",
       "      <td>Rashid Khan</td>\n",
       "      <td>Rajiv Gandhi International Stadium, Uppal</td>\n",
       "      <td>A Deshmukh</td>\n",
       "      <td>NJ Llong</td>\n",
       "      <td>0</td>\n",
       "      <td>2017</td>\n",
       "    </tr>\n",
       "  </tbody>\n",
       "</table>\n",
       "</div>"
      ],
      "text/plain": [
       "     Season       city       date                    team1  \\\n",
       "0  IPL-2017  Hyderabad 2017-04-05      Sunrisers Hyderabad   \n",
       "1  IPL-2017       Pune 2017-04-06           Mumbai Indians   \n",
       "2  IPL-2017     Rajkot 2017-04-07            Gujarat Lions   \n",
       "3  IPL-2017     Indore 2017-04-08  Rising Pune Supergiants   \n",
       "5  IPL-2017  Hyderabad 2017-04-09            Gujarat Lions   \n",
       "\n",
       "                         team2                  toss_winner toss_decision  \\\n",
       "0  Royal Challengers Bangalore  Royal Challengers Bangalore         field   \n",
       "1      Rising Pune Supergiants      Rising Pune Supergiants         field   \n",
       "2        Kolkata Knight Riders        Kolkata Knight Riders         field   \n",
       "3              Kings XI Punjab              Kings XI Punjab         field   \n",
       "5          Sunrisers Hyderabad          Sunrisers Hyderabad         field   \n",
       "\n",
       "   result  dl_applied                   winner  win_by_runs  win_by_wickets  \\\n",
       "0  normal           0      Sunrisers Hyderabad           35               0   \n",
       "1  normal           0  Rising Pune Supergiants            0               7   \n",
       "2  normal           0    Kolkata Knight Riders            0              10   \n",
       "3  normal           0          Kings XI Punjab            0               6   \n",
       "5  normal           0      Sunrisers Hyderabad            0               9   \n",
       "\n",
       "  player_of_match                                      venue         umpire1  \\\n",
       "0    Yuvraj Singh  Rajiv Gandhi International Stadium, Uppal     AY Dandekar   \n",
       "1       SPD Smith    Maharashtra Cricket Association Stadium  A Nand Kishore   \n",
       "2         CA Lynn     Saurashtra Cricket Association Stadium     Nitin Menon   \n",
       "3      GJ Maxwell                     Holkar Cricket Stadium    AK Chaudhary   \n",
       "5     Rashid Khan  Rajiv Gandhi International Stadium, Uppal      A Deshmukh   \n",
       "\n",
       "         umpire2  toss_decisions  year  \n",
       "0       NJ Llong               0  2017  \n",
       "1         S Ravi               0  2017  \n",
       "2      CK Nandan               0  2017  \n",
       "3  C Shamshuddin               0  2017  \n",
       "5       NJ Llong               0  2017  "
      ]
     },
     "execution_count": 69,
     "metadata": {},
     "output_type": "execute_result"
    }
   ],
   "source": [
    "df.head()"
   ]
  },
  {
   "cell_type": "code",
   "execution_count": 70,
   "id": "1dde1583",
   "metadata": {},
   "outputs": [],
   "source": [
    "df_1 = df.copy(deep=True)"
   ]
  },
  {
   "cell_type": "code",
   "execution_count": 71,
   "id": "2cb30a89",
   "metadata": {},
   "outputs": [
    {
     "data": {
      "text/html": [
       "<div>\n",
       "<style scoped>\n",
       "    .dataframe tbody tr th:only-of-type {\n",
       "        vertical-align: middle;\n",
       "    }\n",
       "\n",
       "    .dataframe tbody tr th {\n",
       "        vertical-align: top;\n",
       "    }\n",
       "\n",
       "    .dataframe thead th {\n",
       "        text-align: right;\n",
       "    }\n",
       "</style>\n",
       "<table border=\"1\" class=\"dataframe\">\n",
       "  <thead>\n",
       "    <tr style=\"text-align: right;\">\n",
       "      <th></th>\n",
       "      <th>Season</th>\n",
       "      <th>city</th>\n",
       "      <th>date</th>\n",
       "      <th>team1</th>\n",
       "      <th>team2</th>\n",
       "      <th>toss_winner</th>\n",
       "      <th>toss_decision</th>\n",
       "      <th>result</th>\n",
       "      <th>dl_applied</th>\n",
       "      <th>winner</th>\n",
       "      <th>win_by_runs</th>\n",
       "      <th>win_by_wickets</th>\n",
       "      <th>player_of_match</th>\n",
       "      <th>venue</th>\n",
       "      <th>umpire1</th>\n",
       "      <th>umpire2</th>\n",
       "      <th>toss_decisions</th>\n",
       "      <th>year</th>\n",
       "    </tr>\n",
       "  </thead>\n",
       "  <tbody>\n",
       "    <tr>\n",
       "      <th>0</th>\n",
       "      <td>IPL-2017</td>\n",
       "      <td>Hyderabad</td>\n",
       "      <td>2017-04-05</td>\n",
       "      <td>Sunrisers Hyderabad</td>\n",
       "      <td>Royal Challengers Bangalore</td>\n",
       "      <td>Royal Challengers Bangalore</td>\n",
       "      <td>field</td>\n",
       "      <td>normal</td>\n",
       "      <td>0</td>\n",
       "      <td>Sunrisers Hyderabad</td>\n",
       "      <td>35</td>\n",
       "      <td>0</td>\n",
       "      <td>Yuvraj Singh</td>\n",
       "      <td>Rajiv Gandhi International Stadium, Uppal</td>\n",
       "      <td>AY Dandekar</td>\n",
       "      <td>NJ Llong</td>\n",
       "      <td>0</td>\n",
       "      <td>2017</td>\n",
       "    </tr>\n",
       "    <tr>\n",
       "      <th>1</th>\n",
       "      <td>IPL-2017</td>\n",
       "      <td>Pune</td>\n",
       "      <td>2017-04-06</td>\n",
       "      <td>Mumbai Indians</td>\n",
       "      <td>Rising Pune Supergiants</td>\n",
       "      <td>Rising Pune Supergiants</td>\n",
       "      <td>field</td>\n",
       "      <td>normal</td>\n",
       "      <td>0</td>\n",
       "      <td>Rising Pune Supergiants</td>\n",
       "      <td>0</td>\n",
       "      <td>7</td>\n",
       "      <td>SPD Smith</td>\n",
       "      <td>Maharashtra Cricket Association Stadium</td>\n",
       "      <td>A Nand Kishore</td>\n",
       "      <td>S Ravi</td>\n",
       "      <td>0</td>\n",
       "      <td>2017</td>\n",
       "    </tr>\n",
       "    <tr>\n",
       "      <th>2</th>\n",
       "      <td>IPL-2017</td>\n",
       "      <td>Rajkot</td>\n",
       "      <td>2017-04-07</td>\n",
       "      <td>Gujarat Lions</td>\n",
       "      <td>Kolkata Knight Riders</td>\n",
       "      <td>Kolkata Knight Riders</td>\n",
       "      <td>field</td>\n",
       "      <td>normal</td>\n",
       "      <td>0</td>\n",
       "      <td>Kolkata Knight Riders</td>\n",
       "      <td>0</td>\n",
       "      <td>10</td>\n",
       "      <td>CA Lynn</td>\n",
       "      <td>Saurashtra Cricket Association Stadium</td>\n",
       "      <td>Nitin Menon</td>\n",
       "      <td>CK Nandan</td>\n",
       "      <td>0</td>\n",
       "      <td>2017</td>\n",
       "    </tr>\n",
       "    <tr>\n",
       "      <th>3</th>\n",
       "      <td>IPL-2017</td>\n",
       "      <td>Indore</td>\n",
       "      <td>2017-04-08</td>\n",
       "      <td>Rising Pune Supergiants</td>\n",
       "      <td>Kings XI Punjab</td>\n",
       "      <td>Kings XI Punjab</td>\n",
       "      <td>field</td>\n",
       "      <td>normal</td>\n",
       "      <td>0</td>\n",
       "      <td>Kings XI Punjab</td>\n",
       "      <td>0</td>\n",
       "      <td>6</td>\n",
       "      <td>GJ Maxwell</td>\n",
       "      <td>Holkar Cricket Stadium</td>\n",
       "      <td>AK Chaudhary</td>\n",
       "      <td>C Shamshuddin</td>\n",
       "      <td>0</td>\n",
       "      <td>2017</td>\n",
       "    </tr>\n",
       "    <tr>\n",
       "      <th>5</th>\n",
       "      <td>IPL-2017</td>\n",
       "      <td>Hyderabad</td>\n",
       "      <td>2017-04-09</td>\n",
       "      <td>Gujarat Lions</td>\n",
       "      <td>Sunrisers Hyderabad</td>\n",
       "      <td>Sunrisers Hyderabad</td>\n",
       "      <td>field</td>\n",
       "      <td>normal</td>\n",
       "      <td>0</td>\n",
       "      <td>Sunrisers Hyderabad</td>\n",
       "      <td>0</td>\n",
       "      <td>9</td>\n",
       "      <td>Rashid Khan</td>\n",
       "      <td>Rajiv Gandhi International Stadium, Uppal</td>\n",
       "      <td>A Deshmukh</td>\n",
       "      <td>NJ Llong</td>\n",
       "      <td>0</td>\n",
       "      <td>2017</td>\n",
       "    </tr>\n",
       "  </tbody>\n",
       "</table>\n",
       "</div>"
      ],
      "text/plain": [
       "     Season       city       date                    team1  \\\n",
       "0  IPL-2017  Hyderabad 2017-04-05      Sunrisers Hyderabad   \n",
       "1  IPL-2017       Pune 2017-04-06           Mumbai Indians   \n",
       "2  IPL-2017     Rajkot 2017-04-07            Gujarat Lions   \n",
       "3  IPL-2017     Indore 2017-04-08  Rising Pune Supergiants   \n",
       "5  IPL-2017  Hyderabad 2017-04-09            Gujarat Lions   \n",
       "\n",
       "                         team2                  toss_winner toss_decision  \\\n",
       "0  Royal Challengers Bangalore  Royal Challengers Bangalore         field   \n",
       "1      Rising Pune Supergiants      Rising Pune Supergiants         field   \n",
       "2        Kolkata Knight Riders        Kolkata Knight Riders         field   \n",
       "3              Kings XI Punjab              Kings XI Punjab         field   \n",
       "5          Sunrisers Hyderabad          Sunrisers Hyderabad         field   \n",
       "\n",
       "   result  dl_applied                   winner  win_by_runs  win_by_wickets  \\\n",
       "0  normal           0      Sunrisers Hyderabad           35               0   \n",
       "1  normal           0  Rising Pune Supergiants            0               7   \n",
       "2  normal           0    Kolkata Knight Riders            0              10   \n",
       "3  normal           0          Kings XI Punjab            0               6   \n",
       "5  normal           0      Sunrisers Hyderabad            0               9   \n",
       "\n",
       "  player_of_match                                      venue         umpire1  \\\n",
       "0    Yuvraj Singh  Rajiv Gandhi International Stadium, Uppal     AY Dandekar   \n",
       "1       SPD Smith    Maharashtra Cricket Association Stadium  A Nand Kishore   \n",
       "2         CA Lynn     Saurashtra Cricket Association Stadium     Nitin Menon   \n",
       "3      GJ Maxwell                     Holkar Cricket Stadium    AK Chaudhary   \n",
       "5     Rashid Khan  Rajiv Gandhi International Stadium, Uppal      A Deshmukh   \n",
       "\n",
       "         umpire2  toss_decisions  year  \n",
       "0       NJ Llong               0  2017  \n",
       "1         S Ravi               0  2017  \n",
       "2      CK Nandan               0  2017  \n",
       "3  C Shamshuddin               0  2017  \n",
       "5       NJ Llong               0  2017  "
      ]
     },
     "execution_count": 71,
     "metadata": {},
     "output_type": "execute_result"
    }
   ],
   "source": [
    "df_1.head()"
   ]
  },
  {
   "cell_type": "code",
   "execution_count": 72,
   "id": "8b326c03",
   "metadata": {},
   "outputs": [],
   "source": [
    "df_1.drop(['date', 'umpire1', 'umpire2', 'player_of_match'], axis=1, inplace=True)"
   ]
  },
  {
   "cell_type": "code",
   "execution_count": 73,
   "id": "0bfcfc5d-13a8-4b95-853a-d3158dccaa63",
   "metadata": {},
   "outputs": [
    {
     "data": {
      "text/plain": [
       "Index(['Season', 'city', 'team1', 'team2', 'toss_winner', 'toss_decision',\n",
       "       'result', 'dl_applied', 'winner', 'win_by_runs', 'win_by_wickets',\n",
       "       'venue', 'toss_decisions', 'year'],\n",
       "      dtype='object')"
      ]
     },
     "execution_count": 73,
     "metadata": {},
     "output_type": "execute_result"
    }
   ],
   "source": [
    "df_1.columns"
   ]
  },
  {
   "cell_type": "code",
   "execution_count": 74,
   "id": "c1d179af",
   "metadata": {},
   "outputs": [],
   "source": [
    "categorical_cols = ['Season', 'city', 'team1', 'team2', 'toss_winner', 'toss_decision', 'result', 'venue']"
   ]
  },
  {
   "cell_type": "code",
   "execution_count": 75,
   "id": "a0f9618f-937c-4567-ad62-7860ca4477fb",
   "metadata": {},
   "outputs": [],
   "source": [
    "numerical_cols = ['dl_applied','win_by_runs', 'win_by_wickets']"
   ]
  },
  {
   "cell_type": "code",
   "execution_count": 76,
   "id": "b42d26fe",
   "metadata": {},
   "outputs": [],
   "source": [
    "encoder= LabelEncoder()"
   ]
  },
  {
   "cell_type": "code",
   "execution_count": 77,
   "id": "1dc9e950-1a41-411f-bc9f-a4e65b0e4de1",
   "metadata": {},
   "outputs": [],
   "source": [
    "y=df_1[\"winner\"]"
   ]
  },
  {
   "cell_type": "code",
   "execution_count": 78,
   "id": "31365e1a-1c4f-46dc-9b20-2283d9a764e2",
   "metadata": {},
   "outputs": [],
   "source": [
    "y_encoded=encoder.fit_transform(y)"
   ]
  },
  {
   "cell_type": "code",
   "execution_count": 79,
   "id": "c2d4e006",
   "metadata": {},
   "outputs": [
    {
     "data": {
      "text/plain": [
       "array([13, 11,  7,  5, 13,  8,  5,  3,  8,  7,  8,  4,  7,  3,  8, 11,  7,\n",
       "       13, 12, 13,  8,  4,  8, 11,  5,  7, 11,  7,  4,  7, 13, 11,  8,  5,\n",
       "       13,  8, 11,  3, 11,  3,  5, 11,  8,  7,  4, 13,  5,  3,  5,  3, 13,\n",
       "        8, 11, 12, 11,  7,  8,  8,  7,  0,  3, 12,  7, 10,  3,  0, 10,  5,\n",
       "       10,  0,  1,  5,  0,  8,  3,  5, 10,  3, 12,  5,  8, 10,  5,  1,  8,\n",
       "        0,  7, 10,  8,  0,  7, 10,  5,  7,  8,  5,  3,  8,  5, 10,  8,  0,\n",
       "        3, 10,  5, 12,  5,  3, 10, 12,  7, 10,  0, 10,  0, 10,  8, 12,  3,\n",
       "        1,  0,  7,  1,  3, 10,  5,  1,  3,  5,  1,  8, 10, 12,  5,  3,  0,\n",
       "        8, 12, 10,  0,  5, 12,  0, 10,  3,  1, 10,  0,  3,  5,  0,  8,  3,\n",
       "        1, 12,  8,  3, 12, 10,  5,  0,  1,  5,  3,  7, 12,  7,  0,  3, 12,\n",
       "        1, 12,  1,  7,  8,  3,  7,  1,  3, 12,  0,  8, 12,  0,  1, 10, 12,\n",
       "        1,  5,  8, 12, 10,  8, 10,  7,  3, 10,  8,  3,  8,  0,  3,  7, 12,\n",
       "        0,  8,  5,  3, 10,  0, 10,  7,  1,  5,  1, 12,  5,  8,  1,  8,  0,\n",
       "       12,  3,  1,  8,  7,  0,  1,  7,  8,  0, 12,  0,  0, 10, 12,  8,  9,\n",
       "        7, 10,  8,  5,  9,  1,  7,  6,  0,  5,  3,  7,  6,  1,  8,  6,  5,\n",
       "        8, 12,  3,  8, 10,  0, 12,  0,  1,  7, 10, 12,  3,  7, 10,  0,  8,\n",
       "        6,  7,  0,  8,  6,  3, 12,  7,  8, 12,  9,  0,  9,  5, 12,  0,  5,\n",
       "       12,  1,  5,  6,  1,  5,  0,  7, 10,  1, 14, 12,  8,  0,  8, 12,  0,\n",
       "        8,  3,  9, 10, 12,  0, 10,  9,  8,  7,  3,  8,  0,  5,  7,  3,  9,\n",
       "        5, 10,  3, 10, 12,  7,  3,  0, 12,  0,  9,  5,  7, 12,  3,  8,  1,\n",
       "        3,  5,  7,  3,  8,  7,  1,  3,  5,  8,  0,  7, 10,  8, 12,  7, 10,\n",
       "        5, 12,  0, 12,  8,  0, 10,  5,  8,  0,  3,  7,  5, 12,  1,  3,  7,\n",
       "        1,  8,  7,  0,  0,  7,  7, 12, 13, 10,  8,  5, 13, 10,  8,  0, 12,\n",
       "        9, 13,  8,  0,  7, 10,  9,  5, 12, 13, 10,  0, 13,  0, 12,  3,  5,\n",
       "        0, 12,  5,  8,  0,  7, 10,  8,  0,  3, 10,  8,  0, 13,  3,  0, 12,\n",
       "        7, 13,  5,  8, 10, 12, 10,  8,  0, 10,  7, 12,  8, 13,  7, 10,  5,\n",
       "        8,  9,  0,  8,  5, 13,  5,  9, 12, 13,  0, 10,  8,  8,  7, 12,  5,\n",
       "       10, 12,  3,  5,  0,  5,  0,  7, 13,  0, 10,  5,  3,  0,  5, 10, 13,\n",
       "        0,  8, 10, 12, 10,  0,  8,  7,  5, 13,  5, 13,  0,  7, 10,  8,  0,\n",
       "       12,  5,  7, 10, 12,  7,  8,  5, 13,  7,  8,  7, 13,  8,  5,  0,  7,\n",
       "        5,  8,  7,  0,  5,  7,  7,  0, 10,  0, 12, 10,  5, 13, 10,  7,  3,\n",
       "       10,  0,  3,  7, 10,  8,  7,  5, 13,  0,  3, 12,  8,  0, 12, 13,  7,\n",
       "       14,  0,  3,  8, 12, 13,  8, 10,  0,  7,  8, 12, 13,  8,  7, 13, 12,\n",
       "        0, 13,  3,  5,  8, 12,  0, 10, 14,  8,  8, 12,  0,  8, 11,  7,  4,\n",
       "       12,  8,  4,  3,  7,  4,  5,  3, 13,  7,  8, 13, 12,  3, 13,  4,  7,\n",
       "        8, 11,  4,  8,  4,  3, 13,  5,  8,  7,  3,  7, 11, 13, 12,  5, 13,\n",
       "        4, 12, 13,  8,  3,  5, 12,  7, 13,  8, 12, 11, 12,  4,  3, 11,  4,\n",
       "        7, 12, 12, 13, 13, 13,  0,  5,  7, 13,  0, 10, 13, 12,  3, 13, 10,\n",
       "        5,  7,  8,  7,  5,  0,  5, 12,  0, 10,  5, 13,  0, 13,  3,  8, 13,\n",
       "        7,  0, 12,  3,  7,  8,  0, 13,  8,  5, 13, 10,  8, 13, 10,  7, 12,\n",
       "        0, 10, 12,  7,  8, 12,  3, 10,  7,  3,  0,  0,  7, 13,  0,  0,  7,\n",
       "        2,  5,  0,  7,  8, 13,  5,  2, 13,  0,  5, 10,  8, 13,  7,  0,  8,\n",
       "        2,  7,  5,  0,  8,  0,  2, 10, 12,  0,  2,  8,  5, 13,  8, 12, 10,\n",
       "        2, 13, 12,  2,  0, 12, 10,  8, 10,  2,  7, 13, 14,  0,  8,  7,  2,\n",
       "       12,  5,  8,  8,  0,  8])"
      ]
     },
     "execution_count": 79,
     "metadata": {},
     "output_type": "execute_result"
    }
   ],
   "source": [
    "y_encoded"
   ]
  },
  {
   "cell_type": "code",
   "execution_count": 80,
   "id": "174c1714",
   "metadata": {},
   "outputs": [],
   "source": [
    "encoder = OneHotEncoder(drop='first', sparse_output=False)"
   ]
  },
  {
   "cell_type": "code",
   "execution_count": 81,
   "id": "c205370b-9f48-48fb-8205-f1abd40674f4",
   "metadata": {},
   "outputs": [],
   "source": [
    "x =df_1[['city', 'team1', 'team2', 'toss_winner', 'toss_decision', 'venue']]"
   ]
  },
  {
   "cell_type": "code",
   "execution_count": 82,
   "id": "3636aee8-cf5e-401f-ba86-11cd328c08e4",
   "metadata": {},
   "outputs": [],
   "source": [
    "column_transformer = ColumnTransformer(transformers=[('encoder', encoder, x.columns)],remainder='drop')"
   ]
  },
  {
   "cell_type": "code",
   "execution_count": 83,
   "id": "d325f385-f39d-4241-a1e0-d0a936d364a8",
   "metadata": {},
   "outputs": [],
   "source": [
    "encoded_array = column_transformer.fit_transform(x)"
   ]
  },
  {
   "cell_type": "code",
   "execution_count": 84,
   "id": "58e3aef7-e2b3-4f33-8093-7e21de3efdce",
   "metadata": {},
   "outputs": [],
   "source": [
    "x_encoded = pd.DataFrame(encoded_array, columns=column_transformer.get_feature_names_out())"
   ]
  },
  {
   "cell_type": "code",
   "execution_count": 85,
   "id": "e2a90e37-b39f-415c-abf6-1c4073b1743e",
   "metadata": {},
   "outputs": [],
   "source": [
    "x_encoded.index = x.index"
   ]
  },
  {
   "cell_type": "code",
   "execution_count": 86,
   "id": "19c064e4",
   "metadata": {},
   "outputs": [],
   "source": [
    "X_train, X_test, y_train, y_test = train_test_split(x_encoded, y_encoded, test_size=0.20, random_state=42)"
   ]
  },
  {
   "cell_type": "code",
   "execution_count": 87,
   "id": "48a97708",
   "metadata": {},
   "outputs": [],
   "source": [
    "\n",
    "models = {\n",
    "    'Logistic Regression': LogisticRegression(max_iter=1000),\n",
    "    'SVM': SVC(),\n",
    "    'KNN': KNeighborsClassifier(),\n",
    "    'Decision Tree': DecisionTreeClassifier(),\n",
    "    'Random Forest': RandomForestClassifier(),\n",
    "    'XGBoost': XGBClassifier(eval_metric='mlogloss')\n",
    "}\n"
   ]
  },
  {
   "cell_type": "code",
   "execution_count": 111,
   "id": "d57051db-5fc4-4f82-aa8f-7c75c2c03b35",
   "metadata": {},
   "outputs": [
    {
     "name": "stdout",
     "output_type": "stream",
     "text": [
      "Test Performance:\n"
     ]
    },
    {
     "data": {
      "text/html": [
       "<div>\n",
       "<style scoped>\n",
       "    .dataframe tbody tr th:only-of-type {\n",
       "        vertical-align: middle;\n",
       "    }\n",
       "\n",
       "    .dataframe tbody tr th {\n",
       "        vertical-align: top;\n",
       "    }\n",
       "\n",
       "    .dataframe thead th {\n",
       "        text-align: right;\n",
       "    }\n",
       "</style>\n",
       "<table border=\"1\" class=\"dataframe\">\n",
       "  <thead>\n",
       "    <tr style=\"text-align: right;\">\n",
       "      <th></th>\n",
       "      <th>Model</th>\n",
       "      <th>Accuracy</th>\n",
       "      <th>Precision</th>\n",
       "      <th>Recall</th>\n",
       "      <th>F1 Score</th>\n",
       "    </tr>\n",
       "  </thead>\n",
       "  <tbody>\n",
       "    <tr>\n",
       "      <th>0</th>\n",
       "      <td>Logistic Regression</td>\n",
       "      <td>0.576159</td>\n",
       "      <td>0.578552</td>\n",
       "      <td>0.576159</td>\n",
       "      <td>0.569825</td>\n",
       "    </tr>\n",
       "    <tr>\n",
       "      <th>1</th>\n",
       "      <td>SVM</td>\n",
       "      <td>0.549669</td>\n",
       "      <td>0.540205</td>\n",
       "      <td>0.549669</td>\n",
       "      <td>0.535859</td>\n",
       "    </tr>\n",
       "    <tr>\n",
       "      <th>2</th>\n",
       "      <td>KNN</td>\n",
       "      <td>0.516556</td>\n",
       "      <td>0.563969</td>\n",
       "      <td>0.516556</td>\n",
       "      <td>0.519713</td>\n",
       "    </tr>\n",
       "    <tr>\n",
       "      <th>3</th>\n",
       "      <td>Decision Tree</td>\n",
       "      <td>0.496689</td>\n",
       "      <td>0.496398</td>\n",
       "      <td>0.496689</td>\n",
       "      <td>0.486266</td>\n",
       "    </tr>\n",
       "    <tr>\n",
       "      <th>4</th>\n",
       "      <td>Random Forest</td>\n",
       "      <td>0.529801</td>\n",
       "      <td>0.515925</td>\n",
       "      <td>0.529801</td>\n",
       "      <td>0.518039</td>\n",
       "    </tr>\n",
       "    <tr>\n",
       "      <th>5</th>\n",
       "      <td>XGBoost</td>\n",
       "      <td>0.543046</td>\n",
       "      <td>0.555785</td>\n",
       "      <td>0.543046</td>\n",
       "      <td>0.538220</td>\n",
       "    </tr>\n",
       "  </tbody>\n",
       "</table>\n",
       "</div>"
      ],
      "text/plain": [
       "                 Model  Accuracy  Precision    Recall  F1 Score\n",
       "0  Logistic Regression  0.576159   0.578552  0.576159  0.569825\n",
       "1                  SVM  0.549669   0.540205  0.549669  0.535859\n",
       "2                  KNN  0.516556   0.563969  0.516556  0.519713\n",
       "3        Decision Tree  0.496689   0.496398  0.496689  0.486266\n",
       "4        Random Forest  0.529801   0.515925  0.529801  0.518039\n",
       "5              XGBoost  0.543046   0.555785  0.543046  0.538220"
      ]
     },
     "metadata": {},
     "output_type": "display_data"
    }
   ],
   "source": [
    "test_results = []\n",
    "for name, model in models.items():\n",
    "    model.fit(X_train, y_train)\n",
    "    y_pred_test = model.predict(X_test)\n",
    "    acc = accuracy_score(y_test, y_pred_test)\n",
    "    prec = precision_score(y_test, y_pred_test, average='weighted', zero_division=0)\n",
    "    rec = recall_score(y_test, y_pred_test, average='weighted', zero_division=0)\n",
    "    f1 = f1_score(y_test, y_pred_test, average='weighted', zero_division=0)\n",
    "    test_results.append((name, acc, prec, rec, f1))\n",
    "test_df = pd.DataFrame(test_results, columns=['Model', 'Accuracy', 'Precision', 'Recall', 'F1 Score'])\n",
    "print(\"Test Performance:\")\n",
    "display(test_df)\n"
   ]
  },
  {
   "cell_type": "code",
   "execution_count": 112,
   "id": "66c0908b-6c5b-45fb-974d-a3108f464230",
   "metadata": {},
   "outputs": [
    {
     "name": "stdout",
     "output_type": "stream",
     "text": [
      "Train Performance:\n"
     ]
    },
    {
     "data": {
      "text/html": [
       "<div>\n",
       "<style scoped>\n",
       "    .dataframe tbody tr th:only-of-type {\n",
       "        vertical-align: middle;\n",
       "    }\n",
       "\n",
       "    .dataframe tbody tr th {\n",
       "        vertical-align: top;\n",
       "    }\n",
       "\n",
       "    .dataframe thead th {\n",
       "        text-align: right;\n",
       "    }\n",
       "</style>\n",
       "<table border=\"1\" class=\"dataframe\">\n",
       "  <thead>\n",
       "    <tr style=\"text-align: right;\">\n",
       "      <th></th>\n",
       "      <th>Model</th>\n",
       "      <th>Accuracy</th>\n",
       "      <th>Precision</th>\n",
       "      <th>Recall</th>\n",
       "      <th>F1 Score</th>\n",
       "    </tr>\n",
       "  </thead>\n",
       "  <tbody>\n",
       "    <tr>\n",
       "      <th>0</th>\n",
       "      <td>Logistic Regression</td>\n",
       "      <td>0.787728</td>\n",
       "      <td>0.792541</td>\n",
       "      <td>0.787728</td>\n",
       "      <td>0.783464</td>\n",
       "    </tr>\n",
       "    <tr>\n",
       "      <th>1</th>\n",
       "      <td>SVM</td>\n",
       "      <td>0.776119</td>\n",
       "      <td>0.778591</td>\n",
       "      <td>0.776119</td>\n",
       "      <td>0.771021</td>\n",
       "    </tr>\n",
       "    <tr>\n",
       "      <th>2</th>\n",
       "      <td>KNN</td>\n",
       "      <td>0.608624</td>\n",
       "      <td>0.630300</td>\n",
       "      <td>0.608624</td>\n",
       "      <td>0.600814</td>\n",
       "    </tr>\n",
       "    <tr>\n",
       "      <th>3</th>\n",
       "      <td>Decision Tree</td>\n",
       "      <td>0.892206</td>\n",
       "      <td>0.897059</td>\n",
       "      <td>0.892206</td>\n",
       "      <td>0.889541</td>\n",
       "    </tr>\n",
       "    <tr>\n",
       "      <th>4</th>\n",
       "      <td>Random Forest</td>\n",
       "      <td>0.892206</td>\n",
       "      <td>0.894725</td>\n",
       "      <td>0.892206</td>\n",
       "      <td>0.890762</td>\n",
       "    </tr>\n",
       "    <tr>\n",
       "      <th>5</th>\n",
       "      <td>XGBoost</td>\n",
       "      <td>0.873964</td>\n",
       "      <td>0.876176</td>\n",
       "      <td>0.873964</td>\n",
       "      <td>0.872876</td>\n",
       "    </tr>\n",
       "  </tbody>\n",
       "</table>\n",
       "</div>"
      ],
      "text/plain": [
       "                 Model  Accuracy  Precision    Recall  F1 Score\n",
       "0  Logistic Regression  0.787728   0.792541  0.787728  0.783464\n",
       "1                  SVM  0.776119   0.778591  0.776119  0.771021\n",
       "2                  KNN  0.608624   0.630300  0.608624  0.600814\n",
       "3        Decision Tree  0.892206   0.897059  0.892206  0.889541\n",
       "4        Random Forest  0.892206   0.894725  0.892206  0.890762\n",
       "5              XGBoost  0.873964   0.876176  0.873964  0.872876"
      ]
     },
     "metadata": {},
     "output_type": "display_data"
    }
   ],
   "source": [
    "train_results = []\n",
    "for name, model in models.items():\n",
    "    model.fit(X_train, y_train)\n",
    "    y_pred_train = model.predict(X_train)\n",
    "    acc = accuracy_score(y_train, y_pred_train)\n",
    "    prec = precision_score(y_train, y_pred_train, average='weighted', zero_division=0)\n",
    "    rec = recall_score(y_train, y_pred_train, average='weighted', zero_division=0)\n",
    "    f1 = f1_score(y_train, y_pred_train, average='weighted', zero_division=0)\n",
    "    train_results.append((name, acc, prec, rec, f1))\n",
    "train_df = pd.DataFrame(train_results, columns=['Model', 'Accuracy', 'Precision', 'Recall', 'F1 Score'])\n",
    "print(\"Train Performance:\")\n",
    "display(train_df)"
   ]
  },
  {
   "cell_type": "code",
   "execution_count": 113,
   "id": "78835d2e",
   "metadata": {},
   "outputs": [],
   "source": [
    "x =df_1[['city', 'team1', 'team2', 'toss_winner', 'toss_decision', 'venue']]"
   ]
  },
  {
   "cell_type": "code",
   "execution_count": 114,
   "id": "ddcd21cf-435f-4dd2-bb45-5b4f09f51ca5",
   "metadata": {},
   "outputs": [],
   "source": [
    "encoder = OneHotEncoder(drop='first', sparse_output=False)"
   ]
  },
  {
   "cell_type": "code",
   "execution_count": 115,
   "id": "07b24ba3-7a78-4ed5-b31b-13827aa5aa89",
   "metadata": {},
   "outputs": [],
   "source": [
    "column_transformer = ColumnTransformer(transformers=[('encoder', encoder, x.columns)],remainder='drop')"
   ]
  },
  {
   "cell_type": "code",
   "execution_count": 116,
   "id": "62beb992-32c4-4d68-9b2b-f708321bdd2d",
   "metadata": {},
   "outputs": [],
   "source": [
    "encoded_array = column_transformer.fit_transform(x)"
   ]
  },
  {
   "cell_type": "code",
   "execution_count": 117,
   "id": "56a069d7-85e8-4bce-bb3f-996ec5f73401",
   "metadata": {},
   "outputs": [],
   "source": [
    "x_encoded = pd.DataFrame(encoded_array, columns=column_transformer.get_feature_names_out())"
   ]
  },
  {
   "cell_type": "code",
   "execution_count": 118,
   "id": "0565ef77-c343-4fba-87ce-ad8f37b72c8e",
   "metadata": {},
   "outputs": [],
   "source": [
    "x_encoded = x_encoded.fillna(0)"
   ]
  },
  {
   "cell_type": "code",
   "execution_count": 119,
   "id": "0c83e56a-ba5a-4588-90e6-21eb73eb3c1c",
   "metadata": {},
   "outputs": [],
   "source": [
    "x_encoded.index = x.index"
   ]
  },
  {
   "cell_type": "code",
   "execution_count": 120,
   "id": "607ce055",
   "metadata": {},
   "outputs": [],
   "source": [
    "label_encoder = LabelEncoder()"
   ]
  },
  {
   "cell_type": "code",
   "execution_count": 121,
   "id": "de430abf-b3c3-4121-ae35-42afa0aca70b",
   "metadata": {},
   "outputs": [],
   "source": [
    "y = df_1[\"winner\"]"
   ]
  },
  {
   "cell_type": "code",
   "execution_count": 122,
   "id": "51a44ada-acba-4d7a-b07f-3a865c995dd0",
   "metadata": {},
   "outputs": [],
   "source": [
    "y_encoded = label_encoder.fit_transform(y)"
   ]
  },
  {
   "cell_type": "code",
   "execution_count": 123,
   "id": "5b5b475c",
   "metadata": {},
   "outputs": [],
   "source": [
    "X_train, X_test, y_train, y_test = train_test_split(x_encoded, y_encoded, test_size=0.2, random_state=42)"
   ]
  },
  {
   "cell_type": "code",
   "execution_count": 124,
   "id": "4120fa57",
   "metadata": {},
   "outputs": [],
   "source": [
    "smote = SMOTE(random_state=42,k_neighbors=1)"
   ]
  },
  {
   "cell_type": "code",
   "execution_count": 125,
   "id": "cf33334f-017b-48f0-a048-4b3e7dbe03fe",
   "metadata": {},
   "outputs": [],
   "source": [
    "X_train_smote, y_train_smote = smote.fit_resample(X_train, y_train)"
   ]
  },
  {
   "cell_type": "code",
   "execution_count": 126,
   "id": "14808ba6",
   "metadata": {},
   "outputs": [],
   "source": [
    "rus = RandomUnderSampler(random_state=42)"
   ]
  },
  {
   "cell_type": "code",
   "execution_count": 127,
   "id": "6811ee13-fb8f-4670-ace3-04287bb1dd22",
   "metadata": {},
   "outputs": [],
   "source": [
    "X_train_rus, y_train_rus = rus.fit_resample(X_train, y_train)"
   ]
  },
  {
   "cell_type": "code",
   "execution_count": 128,
   "id": "958d7f25",
   "metadata": {},
   "outputs": [],
   "source": [
    "X_train, X_test, y_train, y_test = train_test_split(x_encoded, y_encoded, test_size=0.2, random_state=42, stratify=y_encoded)"
   ]
  },
  {
   "cell_type": "code",
   "execution_count": 129,
   "id": "1d952436-a0a6-4a1a-a571-ef10f673e9e9",
   "metadata": {},
   "outputs": [
    {
     "name": "stdout",
     "output_type": "stream",
     "text": [
      "Original y_train shape: (603,)\n",
      "After RandomUnderSampler: (45,)\n",
      "After SMOTE: (1350,)\n"
     ]
    }
   ],
   "source": [
    "print(\"Original y_train shape:\", y_train.shape)\n",
    "print(\"After RandomUnderSampler:\", y_train_rus.shape)\n",
    "print(\"After SMOTE:\", y_train_smote.shape)\n"
   ]
  },
  {
   "cell_type": "code",
   "execution_count": 130,
   "id": "2dc82466-b09a-4e2d-b698-b1a17ef2a85c",
   "metadata": {},
   "outputs": [
    {
     "name": "stdout",
     "output_type": "stream",
     "text": [
      "Original Y_Train shape: (603,)\n"
     ]
    },
    {
     "data": {
      "image/png": "[encoded data removed]",
      "text/plain": [
       "<Figure size 640x480 with 1 Axes>"
      ]
     },
     "metadata": {},
     "output_type": "display_data"
    },
    {
     "name": "stdout",
     "output_type": "stream",
     "text": [
      "After Random Undersampling (RUS) shape: (45,)\n"
     ]
    },
    {
     "data": {
      "image/png": "[encoded data removed]",
      "text/plain": [
       "<Figure size 640x480 with 1 Axes>"
      ]
     },
     "metadata": {},
     "output_type": "display_data"
    },
    {
     "name": "stdout",
     "output_type": "stream",
     "text": [
      "After SMOTE shape: (1350,)\n"
     ]
    },
    {
     "data": {
      "image/png": "[encoded data removed]",
      "text/plain": [
       "<Figure size 640x480 with 1 Axes>"
      ]
     },
     "metadata": {},
     "output_type": "display_data"
    }
   ],
   "source": [
    "def plot_distribution(y, title):\n",
    "    print(f\"{title} shape: {y.shape}\")\n",
    "    value_counts = pd.Series(y).value_counts()\n",
    "    sns.barplot(x=value_counts.index, y=value_counts.values, palette='Set2')\n",
    "    plt.title(title)\n",
    "    plt.xlabel('Class')\n",
    "    plt.ylabel('Count')\n",
    "    plt.show()\n",
    "plot_distribution(y_train, \"Original Y_Train\")\n",
    "plot_distribution(y_train_rus, \"After Random Undersampling (RUS)\")\n",
    "plot_distribution(y_train_smote, \"After SMOTE\")"
   ]
  },
  {
   "cell_type": "code",
   "execution_count": 131,
   "id": "6b2bed5c",
   "metadata": {},
   "outputs": [],
   "source": [
    "models = {\n",
    "    'Logistic Regression': LogisticRegression(),\n",
    "    'SVM': SVC(),\n",
    "    'KNN': KNeighborsClassifier(),\n",
    "    'Decision Tree': DecisionTreeClassifier(),\n",
    "    'Random Forest': RandomForestClassifier(),\n",
    "    'XGBoost': XGBClassifier(eval_metric='mlogloss')\n",
    "}"
   ]
  },
  {
   "cell_type": "code",
   "execution_count": 132,
   "id": "de1d252a",
   "metadata": {},
   "outputs": [
    {
     "data": {
      "text/html": [
       "<style>#sk-container-id-1 {\n",
       "  /* Definition of color scheme common for light and dark mode */\n",
       "  --sklearn-color-text: black;\n",
       "  --sklearn-color-line: gray;\n",
       "  /* Definition of color scheme for unfitted estimators */\n",
       "  --sklearn-color-unfitted-level-0: #fff5e6;\n",
       "  --sklearn-color-unfitted-level-1: #f6e4d2;\n",
       "  --sklearn-color-unfitted-level-2: #ffe0b3;\n",
       "  --sklearn-color-unfitted-level-3: chocolate;\n",
       "  /* Definition of color scheme for fitted estimators */\n",
       "  --sklearn-color-fitted-level-0: #f0f8ff;\n",
       "  --sklearn-color-fitted-level-1: #d4ebff;\n",
       "  --sklearn-color-fitted-level-2: #b3dbfd;\n",
       "  --sklearn-color-fitted-level-3: cornflowerblue;\n",
       "\n",
       "  /* Specific color for light theme */\n",
       "  --sklearn-color-text-on-default-background: var(--sg-text-color, var(--theme-code-foreground, var(--jp-content-font-color1, black)));\n",
       "  --sklearn-color-background: var(--sg-background-color, var(--theme-background, var(--jp-layout-color0, white)));\n",
       "  --sklearn-color-border-box: var(--sg-text-color, var(--theme-code-foreground, var(--jp-content-font-color1, black)));\n",
       "  --sklearn-color-icon: #696969;\n",
       "\n",
       "  @media (prefers-color-scheme: dark) {\n",
       "    /* Redefinition of color scheme for dark theme */\n",
       "    --sklearn-color-text-on-default-background: var(--sg-text-color, var(--theme-code-foreground, var(--jp-content-font-color1, white)));\n",
       "    --sklearn-color-background: var(--sg-background-color, var(--theme-background, var(--jp-layout-color0, #111)));\n",
       "    --sklearn-color-border-box: var(--sg-text-color, var(--theme-code-foreground, var(--jp-content-font-color1, white)));\n",
       "    --sklearn-color-icon: #878787;\n",
       "  }\n",
       "}\n",
       "\n",
       "#sk-container-id-1 {\n",
       "  color: var(--sklearn-color-text);\n",
       "}\n",
       "\n",
       "#sk-container-id-1 pre {\n",
       "  padding: 0;\n",
       "}\n",
       "\n",
       "#sk-container-id-1 input.sk-hidden--visually {\n",
       "  border: 0;\n",
       "  clip: rect(1px 1px 1px 1px);\n",
       "  clip: rect(1px, 1px, 1px, 1px);\n",
       "  height: 1px;\n",
       "  margin: -1px;\n",
       "  overflow: hidden;\n",
       "  padding: 0;\n",
       "  position: absolute;\n",
       "  width: 1px;\n",
       "}\n",
       "\n",
       "#sk-container-id-1 div.sk-dashed-wrapped {\n",
       "  border: 1px dashed var(--sklearn-color-line);\n",
       "  margin: 0 0.4em 0.5em 0.4em;\n",
       "  box-sizing: border-box;\n",
       "  padding-bottom: 0.4em;\n",
       "  background-color: var(--sklearn-color-background);\n",
       "}\n",
       "\n",
       "#sk-container-id-1 div.sk-container {\n",
       "  /* jupyter's `normalize.less` sets `[hidden] { display: none; }`\n",
       "     but bootstrap.min.css set `[hidden] { display: none !important; }`\n",
       "     so we also need the `!important` here to be able to override the\n",
       "     default hidden behavior on the sphinx rendered scikit-learn.org.\n",
       "     See: https://github.com/scikit-learn/scikit-learn/issues/21755 */\n",
       "  display: inline-block !important;\n",
       "  position: relative;\n",
       "}\n",
       "\n",
       "#sk-container-id-1 div.sk-text-repr-fallback {\n",
       "  display: none;\n",
       "}\n",
       "\n",
       "div.sk-parallel-item,\n",
       "div.sk-serial,\n",
       "div.sk-item {\n",
       "  /* draw centered vertical line to link estimators */\n",
       "  background-image: linear-gradient(var(--sklearn-color-text-on-default-background), var(--sklearn-color-text-on-default-background));\n",
       "  background-size: 2px 100%;\n",
       "  background-repeat: no-repeat;\n",
       "  background-position: center center;\n",
       "}\n",
       "\n",
       "/* Parallel-specific style estimator block */\n",
       "\n",
       "#sk-container-id-1 div.sk-parallel-item::after {\n",
       "  content: \"\";\n",
       "  width: 100%;\n",
       "  border-bottom: 2px solid var(--sklearn-color-text-on-default-background);\n",
       "  flex-grow: 1;\n",
       "}\n",
       "\n",
       "#sk-container-id-1 div.sk-parallel {\n",
       "  display: flex;\n",
       "  align-items: stretch;\n",
       "  justify-content: center;\n",
       "  background-color: var(--sklearn-color-background);\n",
       "  position: relative;\n",
       "}\n",
       "\n",
       "#sk-container-id-1 div.sk-parallel-item {\n",
       "  display: flex;\n",
       "  flex-direction: column;\n",
       "}\n",
       "\n",
       "#sk-container-id-1 div.sk-parallel-item:first-child::after {\n",
       "  align-self: flex-end;\n",
       "  width: 50%;\n",
       "}\n",
       "\n",
       "#sk-container-id-1 div.sk-parallel-item:last-child::after {\n",
       "  align-self: flex-start;\n",
       "  width: 50%;\n",
       "}\n",
       "\n",
       "#sk-container-id-1 div.sk-parallel-item:only-child::after {\n",
       "  width: 0;\n",
       "}\n",
       "\n",
       "/* Serial-specific style estimator block */\n",
       "\n",
       "#sk-container-id-1 div.sk-serial {\n",
       "  display: flex;\n",
       "  flex-direction: column;\n",
       "  align-items: center;\n",
       "  background-color: var(--sklearn-color-background);\n",
       "  padding-right: 1em;\n",
       "  padding-left: 1em;\n",
       "}\n",
       "\n",
       "\n",
       "/* Toggleable style: style used for estimator/Pipeline/ColumnTransformer box that is\n",
       "clickable and can be expanded/collapsed.\n",
       "- Pipeline and ColumnTransformer use this feature and define the default style\n",
       "- Estimators will overwrite some part of the style using the `sk-estimator` class\n",
       "*/\n",
       "\n",
       "/* Pipeline and ColumnTransformer style (default) */\n",
       "\n",
       "#sk-container-id-1 div.sk-toggleable {\n",
       "  /* Default theme specific background. It is overwritten whether we have a\n",
       "  specific estimator or a Pipeline/ColumnTransformer */\n",
       "  background-color: var(--sklearn-color-background);\n",
       "}\n",
       "\n",
       "/* Toggleable label */\n",
       "#sk-container-id-1 label.sk-toggleable__label {\n",
       "  cursor: pointer;\n",
       "  display: block;\n",
       "  width: 100%;\n",
       "  margin-bottom: 0;\n",
       "  padding: 0.5em;\n",
       "  box-sizing: border-box;\n",
       "  text-align: center;\n",
       "}\n",
       "\n",
       "#sk-container-id-1 label.sk-toggleable__label-arrow:before {\n",
       "  /* Arrow on the left of the label */\n",
       "  content: \"▸\";\n",
       "  float: left;\n",
       "  margin-right: 0.25em;\n",
       "  color: var(--sklearn-color-icon);\n",
       "}\n",
       "\n",
       "#sk-container-id-1 label.sk-toggleable__label-arrow:hover:before {\n",
       "  color: var(--sklearn-color-text);\n",
       "}\n",
       "\n",
       "/* Toggleable content - dropdown */\n",
       "\n",
       "#sk-container-id-1 div.sk-toggleable__content {\n",
       "  max-height: 0;\n",
       "  max-width: 0;\n",
       "  overflow: hidden;\n",
       "  text-align: left;\n",
       "  /* unfitted */\n",
       "  background-color: var(--sklearn-color-unfitted-level-0);\n",
       "}\n",
       "\n",
       "#sk-container-id-1 div.sk-toggleable__content.fitted {\n",
       "  /* fitted */\n",
       "  background-color: var(--sklearn-color-fitted-level-0);\n",
       "}\n",
       "\n",
       "#sk-container-id-1 div.sk-toggleable__content pre {\n",
       "  margin: 0.2em;\n",
       "  border-radius: 0.25em;\n",
       "  color: var(--sklearn-color-text);\n",
       "  /* unfitted */\n",
       "  background-color: var(--sklearn-color-unfitted-level-0);\n",
       "}\n",
       "\n",
       "#sk-container-id-1 div.sk-toggleable__content.fitted pre {\n",
       "  /* unfitted */\n",
       "  background-color: var(--sklearn-color-fitted-level-0);\n",
       "}\n",
       "\n",
       "#sk-container-id-1 input.sk-toggleable__control:checked~div.sk-toggleable__content {\n",
       "  /* Expand drop-down */\n",
       "  max-height: 200px;\n",
       "  max-width: 100%;\n",
       "  overflow: auto;\n",
       "}\n",
       "\n",
       "#sk-container-id-1 input.sk-toggleable__control:checked~label.sk-toggleable__label-arrow:before {\n",
       "  content: \"▾\";\n",
       "}\n",
       "\n",
       "/* Pipeline/ColumnTransformer-specific style */\n",
       "\n",
       "#sk-container-id-1 div.sk-label input.sk-toggleable__control:checked~label.sk-toggleable__label {\n",
       "  color: var(--sklearn-color-text);\n",
       "  background-color: var(--sklearn-color-unfitted-level-2);\n",
       "}\n",
       "\n",
       "#sk-container-id-1 div.sk-label.fitted input.sk-toggleable__control:checked~label.sk-toggleable__label {\n",
       "  background-color: var(--sklearn-color-fitted-level-2);\n",
       "}\n",
       "\n",
       "/* Estimator-specific style */\n",
       "\n",
       "/* Colorize estimator box */\n",
       "#sk-container-id-1 div.sk-estimator input.sk-toggleable__control:checked~label.sk-toggleable__label {\n",
       "  /* unfitted */\n",
       "  background-color: var(--sklearn-color-unfitted-level-2);\n",
       "}\n",
       "\n",
       "#sk-container-id-1 div.sk-estimator.fitted input.sk-toggleable__control:checked~label.sk-toggleable__label {\n",
       "  /* fitted */\n",
       "  background-color: var(--sklearn-color-fitted-level-2);\n",
       "}\n",
       "\n",
       "#sk-container-id-1 div.sk-label label.sk-toggleable__label,\n",
       "#sk-container-id-1 div.sk-label label {\n",
       "  /* The background is the default theme color */\n",
       "  color: var(--sklearn-color-text-on-default-background);\n",
       "}\n",
       "\n",
       "/* On hover, darken the color of the background */\n",
       "#sk-container-id-1 div.sk-label:hover label.sk-toggleable__label {\n",
       "  color: var(--sklearn-color-text);\n",
       "  background-color: var(--sklearn-color-unfitted-level-2);\n",
       "}\n",
       "\n",
       "/* Label box, darken color on hover, fitted */\n",
       "#sk-container-id-1 div.sk-label.fitted:hover label.sk-toggleable__label.fitted {\n",
       "  color: var(--sklearn-color-text);\n",
       "  background-color: var(--sklearn-color-fitted-level-2);\n",
       "}\n",
       "\n",
       "/* Estimator label */\n",
       "\n",
       "#sk-container-id-1 div.sk-label label {\n",
       "  font-family: monospace;\n",
       "  font-weight: bold;\n",
       "  display: inline-block;\n",
       "  line-height: 1.2em;\n",
       "}\n",
       "\n",
       "#sk-container-id-1 div.sk-label-container {\n",
       "  text-align: center;\n",
       "}\n",
       "\n",
       "/* Estimator-specific */\n",
       "#sk-container-id-1 div.sk-estimator {\n",
       "  font-family: monospace;\n",
       "  border: 1px dotted var(--sklearn-color-border-box);\n",
       "  border-radius: 0.25em;\n",
       "  box-sizing: border-box;\n",
       "  margin-bottom: 0.5em;\n",
       "  /* unfitted */\n",
       "  background-color: var(--sklearn-color-unfitted-level-0);\n",
       "}\n",
       "\n",
       "#sk-container-id-1 div.sk-estimator.fitted {\n",
       "  /* fitted */\n",
       "  background-color: var(--sklearn-color-fitted-level-0);\n",
       "}\n",
       "\n",
       "/* on hover */\n",
       "#sk-container-id-1 div.sk-estimator:hover {\n",
       "  /* unfitted */\n",
       "  background-color: var(--sklearn-color-unfitted-level-2);\n",
       "}\n",
       "\n",
       "#sk-container-id-1 div.sk-estimator.fitted:hover {\n",
       "  /* fitted */\n",
       "  background-color: var(--sklearn-color-fitted-level-2);\n",
       "}\n",
       "\n",
       "/* Specification for estimator info (e.g. \"i\" and \"?\") */\n",
       "\n",
       "/* Common style for \"i\" and \"?\" */\n",
       "\n",
       ".sk-estimator-doc-link,\n",
       "a:link.sk-estimator-doc-link,\n",
       "a:visited.sk-estimator-doc-link {\n",
       "  float: right;\n",
       "  font-size: smaller;\n",
       "  line-height: 1em;\n",
       "  font-family: monospace;\n",
       "  background-color: var(--sklearn-color-background);\n",
       "  border-radius: 1em;\n",
       "  height: 1em;\n",
       "  width: 1em;\n",
       "  text-decoration: none !important;\n",
       "  margin-left: 1ex;\n",
       "  /* unfitted */\n",
       "  border: var(--sklearn-color-unfitted-level-1) 1pt solid;\n",
       "  color: var(--sklearn-color-unfitted-level-1);\n",
       "}\n",
       "\n",
       ".sk-estimator-doc-link.fitted,\n",
       "a:link.sk-estimator-doc-link.fitted,\n",
       "a:visited.sk-estimator-doc-link.fitted {\n",
       "  /* fitted */\n",
       "  border: var(--sklearn-color-fitted-level-1) 1pt solid;\n",
       "  color: var(--sklearn-color-fitted-level-1);\n",
       "}\n",
       "\n",
       "/* On hover */\n",
       "div.sk-estimator:hover .sk-estimator-doc-link:hover,\n",
       ".sk-estimator-doc-link:hover,\n",
       "div.sk-label-container:hover .sk-estimator-doc-link:hover,\n",
       ".sk-estimator-doc-link:hover {\n",
       "  /* unfitted */\n",
       "  background-color: var(--sklearn-color-unfitted-level-3);\n",
       "  color: var(--sklearn-color-background);\n",
       "  text-decoration: none;\n",
       "}\n",
       "\n",
       "div.sk-estimator.fitted:hover .sk-estimator-doc-link.fitted:hover,\n",
       ".sk-estimator-doc-link.fitted:hover,\n",
       "div.sk-label-container:hover .sk-estimator-doc-link.fitted:hover,\n",
       ".sk-estimator-doc-link.fitted:hover {\n",
       "  /* fitted */\n",
       "  background-color: var(--sklearn-color-fitted-level-3);\n",
       "  color: var(--sklearn-color-background);\n",
       "  text-decoration: none;\n",
       "}\n",
       "\n",
       "/* Span, style for the box shown on hovering the info icon */\n",
       ".sk-estimator-doc-link span {\n",
       "  display: none;\n",
       "  z-index: 9999;\n",
       "  position: relative;\n",
       "  font-weight: normal;\n",
       "  right: .2ex;\n",
       "  padding: .5ex;\n",
       "  margin: .5ex;\n",
       "  width: min-content;\n",
       "  min-width: 20ex;\n",
       "  max-width: 50ex;\n",
       "  color: var(--sklearn-color-text);\n",
       "  box-shadow: 2pt 2pt 4pt #999;\n",
       "  /* unfitted */\n",
       "  background: var(--sklearn-color-unfitted-level-0);\n",
       "  border: .5pt solid var(--sklearn-color-unfitted-level-3);\n",
       "}\n",
       "\n",
       ".sk-estimator-doc-link.fitted span {\n",
       "  /* fitted */\n",
       "  background: var(--sklearn-color-fitted-level-0);\n",
       "  border: var(--sklearn-color-fitted-level-3);\n",
       "}\n",
       "\n",
       ".sk-estimator-doc-link:hover span {\n",
       "  display: block;\n",
       "}\n",
       "\n",
       "/* \"?\"-specific style due to the `<a>` HTML tag */\n",
       "\n",
       "#sk-container-id-1 a.estimator_doc_link {\n",
       "  float: right;\n",
       "  font-size: 1rem;\n",
       "  line-height: 1em;\n",
       "  font-family: monospace;\n",
       "  background-color: var(--sklearn-color-background);\n",
       "  border-radius: 1rem;\n",
       "  height: 1rem;\n",
       "  width: 1rem;\n",
       "  text-decoration: none;\n",
       "  /* unfitted */\n",
       "  color: var(--sklearn-color-unfitted-level-1);\n",
       "  border: var(--sklearn-color-unfitted-level-1) 1pt solid;\n",
       "}\n",
       "\n",
       "#sk-container-id-1 a.estimator_doc_link.fitted {\n",
       "  /* fitted */\n",
       "  border: var(--sklearn-color-fitted-level-1) 1pt solid;\n",
       "  color: var(--sklearn-color-fitted-level-1);\n",
       "}\n",
       "\n",
       "/* On hover */\n",
       "#sk-container-id-1 a.estimator_doc_link:hover {\n",
       "  /* unfitted */\n",
       "  background-color: var(--sklearn-color-unfitted-level-3);\n",
       "  color: var(--sklearn-color-background);\n",
       "  text-decoration: none;\n",
       "}\n",
       "\n",
       "#sk-container-id-1 a.estimator_doc_link.fitted:hover {\n",
       "  /* fitted */\n",
       "  background-color: var(--sklearn-color-fitted-level-3);\n",
       "}\n",
       "</style><div id=\"sk-container-id-1\" class=\"sk-top-container\"><div class=\"sk-text-repr-fallback\"><pre>DecisionTreeClassifier(class_weight=&#x27;balanced&#x27;)</pre><b>In a Jupyter environment, please rerun this cell to show the HTML representation or trust the notebook. <br />On GitHub, the HTML representation is unable to render, please try loading this page with nbviewer.org.</b></div><div class=\"sk-container\" hidden><div class=\"sk-item\"><div class=\"sk-estimator  sk-toggleable\"><input class=\"sk-toggleable__control sk-hidden--visually\" id=\"sk-estimator-id-1\" type=\"checkbox\" checked><label for=\"sk-estimator-id-1\" class=\"sk-toggleable__label  sk-toggleable__label-arrow \">&nbsp;&nbsp;DecisionTreeClassifier<a class=\"sk-estimator-doc-link \" rel=\"noreferrer\" target=\"_blank\" href=\"https://scikit-learn.org/1.5/modules/generated/sklearn.tree.DecisionTreeClassifier.html\">?<span>Documentation for DecisionTreeClassifier</span></a><span class=\"sk-estimator-doc-link \">i<span>Not fitted</span></span></label><div class=\"sk-toggleable__content \"><pre>DecisionTreeClassifier(class_weight=&#x27;balanced&#x27;)</pre></div> </div></div></div></div>"
      ],
      "text/plain": [
       "DecisionTreeClassifier(class_weight='balanced')"
      ]
     },
     "execution_count": 132,
     "metadata": {},
     "output_type": "execute_result"
    }
   ],
   "source": [
    "models['Decision Tree'].set_params(class_weight='balanced')"
   ]
  },
  {
   "cell_type": "code",
   "execution_count": 133,
   "id": "5bf6bb14",
   "metadata": {},
   "outputs": [],
   "source": [
    "param_grids = {\n",
    "    'Logistic Regression': {'C': [0.001, 0.01, 0.1, 1,3,5,7,9,10],'penalty': ['l1', 'l2'],'solver': ['liblinear', 'saga'],'max_iter': [200, 500, 1000] },\n",
    "    'SVM': {'C': [0.01, 0.1, 1,3,5,],'kernel': ['linear', 'rbf'],'gamma': ['scale', 'auto']},\n",
    "    'KNN': {'n_neighbors': [3, 5, 7, 9, 11],'weights': ['uniform', 'distance'],'metric': ['euclidean', 'manhattan']},\n",
    "    'Decision Tree': {'criterion': ['gini', 'entropy'],'max_depth': [5, 10, 15, 20],'min_samples_split': [2, 4, 6],'min_samples_leaf': [1, 2, 4]},\n",
    "    'Random Forest': {'n_estimators': [100, 200],'max_depth': [10, 20, None],'min_samples_split': [2, 4],'min_samples_leaf': [1, 2]},\n",
    "    'XGBoost': {'n_estimators': [100, 200],'max_depth': [3, 6, 9],'learning_rate': [0.01, 0.1],'subsample': [0.8, 1],'colsample_bytree': [0.8, 1],\n",
    "                'gamma': [0, 0.1, 0.2]}\n",
    "}\n"
   ]
  },
  {
   "cell_type": "code",
   "execution_count": 134,
   "id": "773e720a-0625-4409-99f4-dd7ef0bcd6c5",
   "metadata": {},
   "outputs": [],
   "source": [
    "xgb = XGBClassifier(tree_method='hist',use_label_encoder=False,eval_metric='logloss')\n"
   ]
  },
  {
   "cell_type": "code",
   "execution_count": 135,
   "id": "a2d8b9f2",
   "metadata": {},
   "outputs": [],
   "source": [
    "use_smote_models = ['Logistic Regression', 'SVM', 'Random Forest', 'XGBoost']"
   ]
  },
  {
   "cell_type": "code",
   "execution_count": 136,
   "id": "e981a77f-b1f6-46b4-8414-d97f73ba9326",
   "metadata": {},
   "outputs": [
    {
     "name": "stdout",
     "output_type": "stream",
     "text": [
      "Training and tuning Logistic Regression...\n",
      "Fitting 2 folds for each of 108 candidates, totalling 216 fits\n",
      "Training and tuning SVM...\n",
      "Fitting 2 folds for each of 20 candidates, totalling 40 fits\n",
      "Training and tuning KNN...\n",
      "Fitting 2 folds for each of 20 candidates, totalling 40 fits\n",
      "Training and tuning Decision Tree...\n",
      "Fitting 2 folds for each of 72 candidates, totalling 144 fits\n",
      "Training and tuning Random Forest...\n",
      "Fitting 2 folds for each of 24 candidates, totalling 48 fits\n",
      "Training and tuning XGBoost...\n",
      "Fitting 2 folds for each of 144 candidates, totalling 288 fits\n",
      "\n",
      "Train Performance:\n"
     ]
    },
    {
     "data": {
      "text/html": [
       "<div>\n",
       "<style scoped>\n",
       "    .dataframe tbody tr th:only-of-type {\n",
       "        vertical-align: middle;\n",
       "    }\n",
       "\n",
       "    .dataframe tbody tr th {\n",
       "        vertical-align: top;\n",
       "    }\n",
       "\n",
       "    .dataframe thead th {\n",
       "        text-align: right;\n",
       "    }\n",
       "</style>\n",
       "<table border=\"1\" class=\"dataframe\">\n",
       "  <thead>\n",
       "    <tr style=\"text-align: right;\">\n",
       "      <th></th>\n",
       "      <th>Model</th>\n",
       "      <th>Train_Accuracy</th>\n",
       "      <th>Train_Precision</th>\n",
       "      <th>Train_Recall</th>\n",
       "      <th>Train_F1 Score</th>\n",
       "    </tr>\n",
       "  </thead>\n",
       "  <tbody>\n",
       "    <tr>\n",
       "      <th>0</th>\n",
       "      <td>Logistic Regression</td>\n",
       "      <td>0.932593</td>\n",
       "      <td>0.932514</td>\n",
       "      <td>0.932593</td>\n",
       "      <td>0.932053</td>\n",
       "    </tr>\n",
       "    <tr>\n",
       "      <th>1</th>\n",
       "      <td>SVM</td>\n",
       "      <td>0.941481</td>\n",
       "      <td>0.941834</td>\n",
       "      <td>0.941481</td>\n",
       "      <td>0.940808</td>\n",
       "    </tr>\n",
       "    <tr>\n",
       "      <th>2</th>\n",
       "      <td>KNN</td>\n",
       "      <td>1.000000</td>\n",
       "      <td>1.000000</td>\n",
       "      <td>1.000000</td>\n",
       "      <td>1.000000</td>\n",
       "    </tr>\n",
       "    <tr>\n",
       "      <th>3</th>\n",
       "      <td>Decision Tree</td>\n",
       "      <td>0.866667</td>\n",
       "      <td>0.894444</td>\n",
       "      <td>0.866667</td>\n",
       "      <td>0.856825</td>\n",
       "    </tr>\n",
       "    <tr>\n",
       "      <th>4</th>\n",
       "      <td>Random Forest</td>\n",
       "      <td>0.950370</td>\n",
       "      <td>0.951108</td>\n",
       "      <td>0.950370</td>\n",
       "      <td>0.950114</td>\n",
       "    </tr>\n",
       "    <tr>\n",
       "      <th>5</th>\n",
       "      <td>XGBoost</td>\n",
       "      <td>0.945185</td>\n",
       "      <td>0.946018</td>\n",
       "      <td>0.945185</td>\n",
       "      <td>0.945102</td>\n",
       "    </tr>\n",
       "  </tbody>\n",
       "</table>\n",
       "</div>"
      ],
      "text/plain": [
       "                 Model  Train_Accuracy  Train_Precision  Train_Recall  \\\n",
       "0  Logistic Regression        0.932593         0.932514      0.932593   \n",
       "1                  SVM        0.941481         0.941834      0.941481   \n",
       "2                  KNN        1.000000         1.000000      1.000000   \n",
       "3        Decision Tree        0.866667         0.894444      0.866667   \n",
       "4        Random Forest        0.950370         0.951108      0.950370   \n",
       "5              XGBoost        0.945185         0.946018      0.945185   \n",
       "\n",
       "   Train_F1 Score  \n",
       "0        0.932053  \n",
       "1        0.940808  \n",
       "2        1.000000  \n",
       "3        0.856825  \n",
       "4        0.950114  \n",
       "5        0.945102  "
      ]
     },
     "metadata": {},
     "output_type": "display_data"
    }
   ],
   "source": [
    "train_results = []\n",
    "\n",
    "for name, model in models.items():\n",
    "    print(f\"Training and tuning {name}...\")\n",
    "\n",
    "    if name in use_smote_models:\n",
    "        X_train_used, y_train_used = X_train_smote, y_train_smote\n",
    "    elif name in ['KNN', 'Decision Tree']:\n",
    "        X_train_used, y_train_used = X_train_rus, y_train_rus\n",
    "    else:\n",
    "        X_train_used, y_train_used = X_train, y_train\n",
    "\n",
    "    grid = GridSearchCV(model, param_grids[name], cv=2, scoring='f1_weighted', n_jobs=-1, verbose=1)\n",
    "    grid.fit(X_train_used, y_train_used)\n",
    "    best_model = grid.best_estimator_\n",
    "\n",
    "    y_train_pred = best_model.predict(X_train_used)\n",
    "    train_acc = accuracy_score(y_train_used, y_train_pred)\n",
    "    train_prec = precision_score(y_train_used, y_train_pred, average='weighted', zero_division=0)\n",
    "    train_rec = recall_score(y_train_used, y_train_pred, average='weighted', zero_division=0)\n",
    "    train_f1 = f1_score(y_train_used, y_train_pred, average='weighted', zero_division=0)\n",
    "    train_results.append((name, train_acc, train_prec, train_rec, train_f1))\n",
    "\n",
    "\n",
    "train_df = pd.DataFrame(train_results, columns=['Model', 'Train_Accuracy', 'Train_Precision', 'Train_Recall', 'Train_F1 Score'])\n",
    "\n",
    "print(\"\\nTrain Performance:\")\n",
    "display(train_df)\n",
    "\n"
   ]
  },
  {
   "cell_type": "code",
   "execution_count": 137,
   "id": "92b5a104-59eb-4e17-a98e-88c207a99c87",
   "metadata": {},
   "outputs": [
    {
     "name": "stdout",
     "output_type": "stream",
     "text": [
      "Training and tuning Logistic Regression...\n",
      "Training and tuning SVM...\n",
      "Training and tuning KNN...\n",
      "Training and tuning Decision Tree...\n",
      "Training and tuning Random Forest...\n",
      "Training and tuning XGBoost...\n",
      "\n",
      "Test Performance:\n"
     ]
    },
    {
     "data": {
      "text/html": [
       "<div>\n",
       "<style scoped>\n",
       "    .dataframe tbody tr th:only-of-type {\n",
       "        vertical-align: middle;\n",
       "    }\n",
       "\n",
       "    .dataframe tbody tr th {\n",
       "        vertical-align: top;\n",
       "    }\n",
       "\n",
       "    .dataframe thead th {\n",
       "        text-align: right;\n",
       "    }\n",
       "</style>\n",
       "<table border=\"1\" class=\"dataframe\">\n",
       "  <thead>\n",
       "    <tr style=\"text-align: right;\">\n",
       "      <th></th>\n",
       "      <th>Model</th>\n",
       "      <th>Test_Accuracy</th>\n",
       "      <th>Test_Precision</th>\n",
       "      <th>Test_Recall</th>\n",
       "      <th>Test_F1 Score</th>\n",
       "    </tr>\n",
       "  </thead>\n",
       "  <tbody>\n",
       "    <tr>\n",
       "      <th>0</th>\n",
       "      <td>Logistic Regression</td>\n",
       "      <td>0.801325</td>\n",
       "      <td>0.816179</td>\n",
       "      <td>0.801325</td>\n",
       "      <td>0.800511</td>\n",
       "    </tr>\n",
       "    <tr>\n",
       "      <th>1</th>\n",
       "      <td>SVM</td>\n",
       "      <td>0.814570</td>\n",
       "      <td>0.825189</td>\n",
       "      <td>0.814570</td>\n",
       "      <td>0.809742</td>\n",
       "    </tr>\n",
       "    <tr>\n",
       "      <th>2</th>\n",
       "      <td>KNN</td>\n",
       "      <td>0.298013</td>\n",
       "      <td>0.458788</td>\n",
       "      <td>0.298013</td>\n",
       "      <td>0.294333</td>\n",
       "    </tr>\n",
       "    <tr>\n",
       "      <th>3</th>\n",
       "      <td>Decision Tree</td>\n",
       "      <td>0.377483</td>\n",
       "      <td>0.478317</td>\n",
       "      <td>0.377483</td>\n",
       "      <td>0.396206</td>\n",
       "    </tr>\n",
       "    <tr>\n",
       "      <th>4</th>\n",
       "      <td>Random Forest</td>\n",
       "      <td>0.794702</td>\n",
       "      <td>0.802321</td>\n",
       "      <td>0.794702</td>\n",
       "      <td>0.788659</td>\n",
       "    </tr>\n",
       "    <tr>\n",
       "      <th>5</th>\n",
       "      <td>XGBoost</td>\n",
       "      <td>0.814570</td>\n",
       "      <td>0.821726</td>\n",
       "      <td>0.814570</td>\n",
       "      <td>0.811930</td>\n",
       "    </tr>\n",
       "  </tbody>\n",
       "</table>\n",
       "</div>"
      ],
      "text/plain": [
       "                 Model  Test_Accuracy  Test_Precision  Test_Recall  \\\n",
       "0  Logistic Regression       0.801325        0.816179     0.801325   \n",
       "1                  SVM       0.814570        0.825189     0.814570   \n",
       "2                  KNN       0.298013        0.458788     0.298013   \n",
       "3        Decision Tree       0.377483        0.478317     0.377483   \n",
       "4        Random Forest       0.794702        0.802321     0.794702   \n",
       "5              XGBoost       0.814570        0.821726     0.814570   \n",
       "\n",
       "   Test_F1 Score  \n",
       "0       0.800511  \n",
       "1       0.809742  \n",
       "2       0.294333  \n",
       "3       0.396206  \n",
       "4       0.788659  \n",
       "5       0.811930  "
      ]
     },
     "metadata": {},
     "output_type": "display_data"
    }
   ],
   "source": [
    "test_results = []\n",
    "\n",
    "for name, model in models.items():\n",
    "    print(f\"Training and tuning {name}...\")\n",
    "\n",
    "    if name in use_smote_models:\n",
    "        X_train_used, y_train_used = X_train_smote, y_train_smote\n",
    "    elif name in ['KNN', 'Decision Tree']:\n",
    "        X_train_used, y_train_used = X_train_rus, y_train_rus\n",
    "    else:\n",
    "        X_train_used, y_train_used = X_train, y_train\n",
    "\n",
    "    grid = GridSearchCV(model, param_grids[name], cv=2, scoring='accuracy', n_jobs=-1)\n",
    "    grid.fit(X_train_used, y_train_used)\n",
    "    best_model = grid.best_estimator_\n",
    "\n",
    "\n",
    "    y_test_pred = best_model.predict(X_test)\n",
    "    test_acc = accuracy_score(y_test, y_test_pred)\n",
    "    test_prec = precision_score(y_test, y_test_pred, average='weighted', zero_division=0)\n",
    "    test_rec = recall_score(y_test, y_test_pred, average='weighted', zero_division=0)\n",
    "    test_f1 = f1_score(y_test, y_test_pred, average='weighted', zero_division=0)\n",
    "    test_results.append((name, test_acc, test_prec, test_rec, test_f1))\n",
    "\n",
    "\n",
    "test_df = pd.DataFrame(test_results, columns=['Model', 'Test_Accuracy', 'Test_Precision', 'Test_Recall', 'Test_F1 Score'])\n",
    "\n",
    "print(\"\\nTest Performance:\")\n",
    "display(test_df)"
   ]
  },
  {
   "cell_type": "code",
   "execution_count": null,
   "id": "aacec969-1901-48c9-996a-860a0a44513c",
   "metadata": {},
   "outputs": [],
   "source": []
  },
  {
   "cell_type": "code",
   "execution_count": null,
   "id": "4ef4934d-a856-4fba-974d-5c7941f79fc7",
   "metadata": {},
   "outputs": [],
   "source": []
  },
  {
   "cell_type": "code",
   "execution_count": null,
   "id": "5f3695b4-a653-450a-8648-20abbe50c612",
   "metadata": {},
   "outputs": [],
   "source": []
  },
  {
   "cell_type": "code",
   "execution_count": null,
   "id": "3702d90a-042b-4da3-931b-a79ae8e04267",
   "metadata": {},
   "outputs": [],
   "source": []
  },
  {
   "cell_type": "code",
   "execution_count": null,
   "id": "1975bb00-8842-4797-84cc-365600e320e6",
   "metadata": {},
   "outputs": [],
   "source": []
  },
  {
   "cell_type": "code",
   "execution_count": null,
   "id": "d5209923-33e6-448d-8d9b-34b1eb5ffa65",
   "metadata": {},
   "outputs": [],
   "source": []
  },
  {
   "cell_type": "code",
   "execution_count": null,
   "id": "03c84d31-9041-4c18-ab28-fda09e816beb",
   "metadata": {},
   "outputs": [],
   "source": []
  },
  {
   "cell_type": "code",
   "execution_count": null,
   "id": "79ec3aa5-a6f3-4e25-90ef-f3c1922b87d3",
   "metadata": {},
   "outputs": [],
   "source": []
  },
  {
   "cell_type": "code",
   "execution_count": null,
   "id": "fb5e2678-0e74-4efd-8d12-df4d35a66bbd",
   "metadata": {},
   "outputs": [],
   "source": []
  },
  {
   "cell_type": "code",
   "execution_count": null,
   "id": "c75eec22-ffef-4094-94fe-40db2f414a0b",
   "metadata": {},
   "outputs": [],
   "source": []
  },
  {
   "cell_type": "code",
   "execution_count": null,
   "id": "dad41ec3-d91c-4a4c-b200-f2b3ae7598d2",
   "metadata": {},
   "outputs": [],
   "source": []
  },
  {
   "cell_type": "code",
   "execution_count": null,
   "id": "b6bb1581-14b5-40a0-beaa-34c04030b0c5",
   "metadata": {},
   "outputs": [],
   "source": []
  },
  {
   "cell_type": "code",
   "execution_count": null,
   "id": "6c2468db-0ce9-4820-ac68-1cc9cacce168",
   "metadata": {},
   "outputs": [],
   "source": []
  },
  {
   "cell_type": "code",
   "execution_count": null,
   "id": "a8664140-615b-4601-9d5c-7e126a3acadb",
   "metadata": {},
   "outputs": [],
   "source": []
  },
  {
   "cell_type": "code",
   "execution_count": null,
   "id": "a2693987-96f6-4218-a483-010b3634693a",
   "metadata": {},
   "outputs": [],
   "source": []
  },
  {
   "cell_type": "code",
   "execution_count": null,
   "id": "7f214248-003d-42a2-9eb0-fc55830abf58",
   "metadata": {},
   "outputs": [],
   "source": []
  },
  {
   "cell_type": "code",
   "execution_count": null,
   "id": "993c4bdf-20f1-4b78-84d0-f9d00da9907e",
   "metadata": {},
   "outputs": [],
   "source": []
  },
  {
   "cell_type": "code",
   "execution_count": null,
   "id": "97317874-6e44-441c-ad43-ecb80da29207",
   "metadata": {},
   "outputs": [],
   "source": []
  },
  {
   "cell_type": "code",
   "execution_count": null,
   "id": "9be20f40-f5f5-4fcc-bdf0-37253ca19449",
   "metadata": {},
   "outputs": [],
   "source": []
  },
  {
   "cell_type": "code",
   "execution_count": null,
   "id": "b9c65060-f086-4ff5-8c32-e5a7d34da896",
   "metadata": {},
   "outputs": [],
   "source": []
  },
  {
   "cell_type": "code",
   "execution_count": null,
   "id": "d96e05c6-6667-4815-ab87-ac594083dc52",
   "metadata": {},
   "outputs": [],
   "source": []
  },
  {
   "cell_type": "code",
   "execution_count": null,
   "id": "1a57dfda-ba85-4461-80d3-6c3b3baf99b4",
   "metadata": {},
   "outputs": [],
   "source": []
  },
  {
   "cell_type": "code",
   "execution_count": null,
   "id": "1158fdc3-8417-4988-aa01-86ceabf84c58",
   "metadata": {},
   "outputs": [],
   "source": []
  },
  {
   "cell_type": "code",
   "execution_count": null,
   "id": "3474fb1a-1abf-4296-bcad-9e8172563e0c",
   "metadata": {},
   "outputs": [],
   "source": []
  },
  {
   "cell_type": "code",
   "execution_count": null,
   "id": "6ffdb4d1-9337-4e37-a321-6b8c57865200",
   "metadata": {},
   "outputs": [],
   "source": []
  },
  {
   "cell_type": "code",
   "execution_count": null,
   "id": "10deeb8c-c176-489a-b7ca-8dbf49f257cc",
   "metadata": {},
   "outputs": [],
   "source": []
  },
  {
   "cell_type": "code",
   "execution_count": null,
   "id": "f1107bc5-c1f3-4812-a08c-29ff42807fbd",
   "metadata": {},
   "outputs": [],
   "source": []
  },
  {
   "cell_type": "code",
   "execution_count": null,
   "id": "aab2f4e7-44d5-4004-8a41-7fd0f8905d15",
   "metadata": {},
   "outputs": [],
   "source": []
  }
 ],
 "metadata": {
  "kernelspec": {
   "display_name": "Python [conda env:base] *",
   "language": "python",
   "name": "conda-base-py"
  },
  "language_info": {
   "codemirror_mode": {
    "name": "ipython",
    "version": 3
   },
   "file_extension": ".py",
   "mimetype": "text/x-python",
   "name": "python",
   "nbconvert_exporter": "python",
   "pygments_lexer": "ipython3",
   "version": "3.12.7"
  }
 },
 "nbformat": 4,
 "nbformat_minor": 5
}
